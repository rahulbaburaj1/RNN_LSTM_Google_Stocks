{
  "nbformat": 4,
  "nbformat_minor": 0,
  "metadata": {
    "colab": {
      "provenance": [],
      "gpuType": "T4",
      "authorship_tag": "ABX9TyNpBvFSzUsSo2n40sqW9RaL",
      "include_colab_link": true
    },
    "kernelspec": {
      "name": "python3",
      "display_name": "Python 3"
    },
    "language_info": {
      "name": "python"
    },
    "accelerator": "GPU"
  },
  "cells": [
    {
      "cell_type": "markdown",
      "metadata": {
        "id": "view-in-github",
        "colab_type": "text"
      },
      "source": [
        "<a href=\"https://colab.research.google.com/github/rahulbaburaj1/RNN_LSTM_Google_Stocks/blob/main/rnn_lstm_google_stock.ipynb\" target=\"_parent\"><img src=\"https://colab.research.google.com/assets/colab-badge.svg\" alt=\"Open In Colab\"/></a>"
      ]
    },
    {
      "cell_type": "code",
      "execution_count": null,
      "metadata": {
        "id": "jTgxPWk3Vuab"
      },
      "outputs": [],
      "source": [
        "import pandas as pd\n",
        "import numpy as np\n",
        "import keras\n",
        "import tensorflow as tf\n",
        "df = pd.read_csv(\"GOOG.csv\")"
      ]
    },
    {
      "cell_type": "code",
      "source": [
        "df.head()"
      ],
      "metadata": {
        "colab": {
          "base_uri": "https://localhost:8080/",
          "height": 206
        },
        "id": "ErRIsR2cWkzJ",
        "outputId": "08d8348e-8deb-40a6-bf56-357a79aac11a"
      },
      "execution_count": null,
      "outputs": [
        {
          "output_type": "execute_result",
          "data": {
            "text/plain": [
              "         Date        Open        High         Low       Close   Adj Close  \\\n",
              "0  2022-08-08  119.120003  120.860001  117.830002  118.139999  118.139999   \n",
              "1  2022-08-09  117.989998  118.199997  116.559998  117.500000  117.500000   \n",
              "2  2022-08-10  119.589996  121.779999  119.360001  120.650002  120.650002   \n",
              "3  2022-08-11  122.080002  122.339996  119.550003  119.820000  119.820000   \n",
              "4  2022-08-12  121.160004  122.650002  120.400002  122.650002  122.650002   \n",
              "\n",
              "     Volume  \n",
              "0  17061100  \n",
              "1  15424300  \n",
              "2  20497000  \n",
              "3  16671600  \n",
              "4  16121100  "
            ],
            "text/html": [
              "\n",
              "\n",
              "  <div id=\"df-d553f1b1-a769-4bd0-a440-d89dfafec010\">\n",
              "    <div class=\"colab-df-container\">\n",
              "      <div>\n",
              "<style scoped>\n",
              "    .dataframe tbody tr th:only-of-type {\n",
              "        vertical-align: middle;\n",
              "    }\n",
              "\n",
              "    .dataframe tbody tr th {\n",
              "        vertical-align: top;\n",
              "    }\n",
              "\n",
              "    .dataframe thead th {\n",
              "        text-align: right;\n",
              "    }\n",
              "</style>\n",
              "<table border=\"1\" class=\"dataframe\">\n",
              "  <thead>\n",
              "    <tr style=\"text-align: right;\">\n",
              "      <th></th>\n",
              "      <th>Date</th>\n",
              "      <th>Open</th>\n",
              "      <th>High</th>\n",
              "      <th>Low</th>\n",
              "      <th>Close</th>\n",
              "      <th>Adj Close</th>\n",
              "      <th>Volume</th>\n",
              "    </tr>\n",
              "  </thead>\n",
              "  <tbody>\n",
              "    <tr>\n",
              "      <th>0</th>\n",
              "      <td>2022-08-08</td>\n",
              "      <td>119.120003</td>\n",
              "      <td>120.860001</td>\n",
              "      <td>117.830002</td>\n",
              "      <td>118.139999</td>\n",
              "      <td>118.139999</td>\n",
              "      <td>17061100</td>\n",
              "    </tr>\n",
              "    <tr>\n",
              "      <th>1</th>\n",
              "      <td>2022-08-09</td>\n",
              "      <td>117.989998</td>\n",
              "      <td>118.199997</td>\n",
              "      <td>116.559998</td>\n",
              "      <td>117.500000</td>\n",
              "      <td>117.500000</td>\n",
              "      <td>15424300</td>\n",
              "    </tr>\n",
              "    <tr>\n",
              "      <th>2</th>\n",
              "      <td>2022-08-10</td>\n",
              "      <td>119.589996</td>\n",
              "      <td>121.779999</td>\n",
              "      <td>119.360001</td>\n",
              "      <td>120.650002</td>\n",
              "      <td>120.650002</td>\n",
              "      <td>20497000</td>\n",
              "    </tr>\n",
              "    <tr>\n",
              "      <th>3</th>\n",
              "      <td>2022-08-11</td>\n",
              "      <td>122.080002</td>\n",
              "      <td>122.339996</td>\n",
              "      <td>119.550003</td>\n",
              "      <td>119.820000</td>\n",
              "      <td>119.820000</td>\n",
              "      <td>16671600</td>\n",
              "    </tr>\n",
              "    <tr>\n",
              "      <th>4</th>\n",
              "      <td>2022-08-12</td>\n",
              "      <td>121.160004</td>\n",
              "      <td>122.650002</td>\n",
              "      <td>120.400002</td>\n",
              "      <td>122.650002</td>\n",
              "      <td>122.650002</td>\n",
              "      <td>16121100</td>\n",
              "    </tr>\n",
              "  </tbody>\n",
              "</table>\n",
              "</div>\n",
              "      <button class=\"colab-df-convert\" onclick=\"convertToInteractive('df-d553f1b1-a769-4bd0-a440-d89dfafec010')\"\n",
              "              title=\"Convert this dataframe to an interactive table.\"\n",
              "              style=\"display:none;\">\n",
              "\n",
              "  <svg xmlns=\"http://www.w3.org/2000/svg\" height=\"24px\"viewBox=\"0 0 24 24\"\n",
              "       width=\"24px\">\n",
              "    <path d=\"M0 0h24v24H0V0z\" fill=\"none\"/>\n",
              "    <path d=\"M18.56 5.44l.94 2.06.94-2.06 2.06-.94-2.06-.94-.94-2.06-.94 2.06-2.06.94zm-11 1L8.5 8.5l.94-2.06 2.06-.94-2.06-.94L8.5 2.5l-.94 2.06-2.06.94zm10 10l.94 2.06.94-2.06 2.06-.94-2.06-.94-.94-2.06-.94 2.06-2.06.94z\"/><path d=\"M17.41 7.96l-1.37-1.37c-.4-.4-.92-.59-1.43-.59-.52 0-1.04.2-1.43.59L10.3 9.45l-7.72 7.72c-.78.78-.78 2.05 0 2.83L4 21.41c.39.39.9.59 1.41.59.51 0 1.02-.2 1.41-.59l7.78-7.78 2.81-2.81c.8-.78.8-2.07 0-2.86zM5.41 20L4 18.59l7.72-7.72 1.47 1.35L5.41 20z\"/>\n",
              "  </svg>\n",
              "      </button>\n",
              "\n",
              "\n",
              "\n",
              "    <div id=\"df-39d73a24-467a-4063-b340-3f12ef62ca4a\">\n",
              "      <button class=\"colab-df-quickchart\" onclick=\"quickchart('df-39d73a24-467a-4063-b340-3f12ef62ca4a')\"\n",
              "              title=\"Suggest charts.\"\n",
              "              style=\"display:none;\">\n",
              "\n",
              "<svg xmlns=\"http://www.w3.org/2000/svg\" height=\"24px\"viewBox=\"0 0 24 24\"\n",
              "     width=\"24px\">\n",
              "    <g>\n",
              "        <path d=\"M19 3H5c-1.1 0-2 .9-2 2v14c0 1.1.9 2 2 2h14c1.1 0 2-.9 2-2V5c0-1.1-.9-2-2-2zM9 17H7v-7h2v7zm4 0h-2V7h2v10zm4 0h-2v-4h2v4z\"/>\n",
              "    </g>\n",
              "</svg>\n",
              "      </button>\n",
              "    </div>\n",
              "\n",
              "<style>\n",
              "  .colab-df-quickchart {\n",
              "    background-color: #E8F0FE;\n",
              "    border: none;\n",
              "    border-radius: 50%;\n",
              "    cursor: pointer;\n",
              "    display: none;\n",
              "    fill: #1967D2;\n",
              "    height: 32px;\n",
              "    padding: 0 0 0 0;\n",
              "    width: 32px;\n",
              "  }\n",
              "\n",
              "  .colab-df-quickchart:hover {\n",
              "    background-color: #E2EBFA;\n",
              "    box-shadow: 0px 1px 2px rgba(60, 64, 67, 0.3), 0px 1px 3px 1px rgba(60, 64, 67, 0.15);\n",
              "    fill: #174EA6;\n",
              "  }\n",
              "\n",
              "  [theme=dark] .colab-df-quickchart {\n",
              "    background-color: #3B4455;\n",
              "    fill: #D2E3FC;\n",
              "  }\n",
              "\n",
              "  [theme=dark] .colab-df-quickchart:hover {\n",
              "    background-color: #434B5C;\n",
              "    box-shadow: 0px 1px 3px 1px rgba(0, 0, 0, 0.15);\n",
              "    filter: drop-shadow(0px 1px 2px rgba(0, 0, 0, 0.3));\n",
              "    fill: #FFFFFF;\n",
              "  }\n",
              "</style>\n",
              "\n",
              "    <script>\n",
              "      async function quickchart(key) {\n",
              "        const containerElement = document.querySelector('#' + key);\n",
              "        const charts = await google.colab.kernel.invokeFunction(\n",
              "            'suggestCharts', [key], {});\n",
              "      }\n",
              "    </script>\n",
              "\n",
              "      <script>\n",
              "\n",
              "function displayQuickchartButton(domScope) {\n",
              "  let quickchartButtonEl =\n",
              "    domScope.querySelector('#df-39d73a24-467a-4063-b340-3f12ef62ca4a button.colab-df-quickchart');\n",
              "  quickchartButtonEl.style.display =\n",
              "    google.colab.kernel.accessAllowed ? 'block' : 'none';\n",
              "}\n",
              "\n",
              "        displayQuickchartButton(document);\n",
              "      </script>\n",
              "      <style>\n",
              "    .colab-df-container {\n",
              "      display:flex;\n",
              "      flex-wrap:wrap;\n",
              "      gap: 12px;\n",
              "    }\n",
              "\n",
              "    .colab-df-convert {\n",
              "      background-color: #E8F0FE;\n",
              "      border: none;\n",
              "      border-radius: 50%;\n",
              "      cursor: pointer;\n",
              "      display: none;\n",
              "      fill: #1967D2;\n",
              "      height: 32px;\n",
              "      padding: 0 0 0 0;\n",
              "      width: 32px;\n",
              "    }\n",
              "\n",
              "    .colab-df-convert:hover {\n",
              "      background-color: #E2EBFA;\n",
              "      box-shadow: 0px 1px 2px rgba(60, 64, 67, 0.3), 0px 1px 3px 1px rgba(60, 64, 67, 0.15);\n",
              "      fill: #174EA6;\n",
              "    }\n",
              "\n",
              "    [theme=dark] .colab-df-convert {\n",
              "      background-color: #3B4455;\n",
              "      fill: #D2E3FC;\n",
              "    }\n",
              "\n",
              "    [theme=dark] .colab-df-convert:hover {\n",
              "      background-color: #434B5C;\n",
              "      box-shadow: 0px 1px 3px 1px rgba(0, 0, 0, 0.15);\n",
              "      filter: drop-shadow(0px 1px 2px rgba(0, 0, 0, 0.3));\n",
              "      fill: #FFFFFF;\n",
              "    }\n",
              "  </style>\n",
              "\n",
              "      <script>\n",
              "        const buttonEl =\n",
              "          document.querySelector('#df-d553f1b1-a769-4bd0-a440-d89dfafec010 button.colab-df-convert');\n",
              "        buttonEl.style.display =\n",
              "          google.colab.kernel.accessAllowed ? 'block' : 'none';\n",
              "\n",
              "        async function convertToInteractive(key) {\n",
              "          const element = document.querySelector('#df-d553f1b1-a769-4bd0-a440-d89dfafec010');\n",
              "          const dataTable =\n",
              "            await google.colab.kernel.invokeFunction('convertToInteractive',\n",
              "                                                     [key], {});\n",
              "          if (!dataTable) return;\n",
              "\n",
              "          const docLinkHtml = 'Like what you see? Visit the ' +\n",
              "            '<a target=\"_blank\" href=https://colab.research.google.com/notebooks/data_table.ipynb>data table notebook</a>'\n",
              "            + ' to learn more about interactive tables.';\n",
              "          element.innerHTML = '';\n",
              "          dataTable['output_type'] = 'display_data';\n",
              "          await google.colab.output.renderOutput(dataTable, element);\n",
              "          const docLink = document.createElement('div');\n",
              "          docLink.innerHTML = docLinkHtml;\n",
              "          element.appendChild(docLink);\n",
              "        }\n",
              "      </script>\n",
              "    </div>\n",
              "  </div>\n"
            ]
          },
          "metadata": {},
          "execution_count": 52
        }
      ]
    },
    {
      "cell_type": "code",
      "source": [
        "df.columns"
      ],
      "metadata": {
        "colab": {
          "base_uri": "https://localhost:8080/"
        },
        "id": "18MjhljxWmtu",
        "outputId": "e9d16fab-3c2d-4f84-9fa3-ec6e45e1e138"
      },
      "execution_count": null,
      "outputs": [
        {
          "output_type": "execute_result",
          "data": {
            "text/plain": [
              "Index(['Date', 'Open', 'High', 'Low', 'Close', 'Adj Close', 'Volume'], dtype='object')"
            ]
          },
          "metadata": {},
          "execution_count": 53
        }
      ]
    },
    {
      "cell_type": "code",
      "source": [
        "df.isnull().sum()"
      ],
      "metadata": {
        "colab": {
          "base_uri": "https://localhost:8080/"
        },
        "id": "fhzKwyUpWo54",
        "outputId": "7cbf6f87-9a70-4712-df55-589429e83698"
      },
      "execution_count": null,
      "outputs": [
        {
          "output_type": "execute_result",
          "data": {
            "text/plain": [
              "Date         0\n",
              "Open         0\n",
              "High         0\n",
              "Low          0\n",
              "Close        0\n",
              "Adj Close    0\n",
              "Volume       0\n",
              "dtype: int64"
            ]
          },
          "metadata": {},
          "execution_count": 54
        }
      ]
    },
    {
      "cell_type": "code",
      "source": [
        "df.info()"
      ],
      "metadata": {
        "colab": {
          "base_uri": "https://localhost:8080/"
        },
        "id": "rRFABDVCWvFM",
        "outputId": "3cc7ef0b-263d-4406-b769-85d5a78f2ed9"
      },
      "execution_count": null,
      "outputs": [
        {
          "output_type": "stream",
          "name": "stdout",
          "text": [
            "<class 'pandas.core.frame.DataFrame'>\n",
            "RangeIndex: 250 entries, 0 to 249\n",
            "Data columns (total 7 columns):\n",
            " #   Column     Non-Null Count  Dtype  \n",
            "---  ------     --------------  -----  \n",
            " 0   Date       250 non-null    object \n",
            " 1   Open       250 non-null    float64\n",
            " 2   High       250 non-null    float64\n",
            " 3   Low        250 non-null    float64\n",
            " 4   Close      250 non-null    float64\n",
            " 5   Adj Close  250 non-null    float64\n",
            " 6   Volume     250 non-null    int64  \n",
            "dtypes: float64(5), int64(1), object(1)\n",
            "memory usage: 13.8+ KB\n"
          ]
        }
      ]
    },
    {
      "cell_type": "code",
      "source": [
        "df['Date']=pd.to_datetime(df['Date'])\n",
        "df.set_index(df['Date'],inplace=True)\n",
        "df.drop(columns=['Open','High','Low','Volume'],inplace=True)"
      ],
      "metadata": {
        "id": "ndga2ZxtXrEO"
      },
      "execution_count": null,
      "outputs": []
    },
    {
      "cell_type": "code",
      "source": [
        "df.head()"
      ],
      "metadata": {
        "colab": {
          "base_uri": "https://localhost:8080/",
          "height": 237
        },
        "id": "SoA7TJ_PY7aY",
        "outputId": "a451ee33-c2f1-4bc1-d7d6-ccf2b053387b"
      },
      "execution_count": null,
      "outputs": [
        {
          "output_type": "execute_result",
          "data": {
            "text/plain": [
              "                 Date       Close   Adj Close\n",
              "Date                                         \n",
              "2022-08-08 2022-08-08  118.139999  118.139999\n",
              "2022-08-09 2022-08-09  117.500000  117.500000\n",
              "2022-08-10 2022-08-10  120.650002  120.650002\n",
              "2022-08-11 2022-08-11  119.820000  119.820000\n",
              "2022-08-12 2022-08-12  122.650002  122.650002"
            ],
            "text/html": [
              "\n",
              "\n",
              "  <div id=\"df-a19c35a2-b13a-4ac8-98b7-1f2b4891e4ad\">\n",
              "    <div class=\"colab-df-container\">\n",
              "      <div>\n",
              "<style scoped>\n",
              "    .dataframe tbody tr th:only-of-type {\n",
              "        vertical-align: middle;\n",
              "    }\n",
              "\n",
              "    .dataframe tbody tr th {\n",
              "        vertical-align: top;\n",
              "    }\n",
              "\n",
              "    .dataframe thead th {\n",
              "        text-align: right;\n",
              "    }\n",
              "</style>\n",
              "<table border=\"1\" class=\"dataframe\">\n",
              "  <thead>\n",
              "    <tr style=\"text-align: right;\">\n",
              "      <th></th>\n",
              "      <th>Date</th>\n",
              "      <th>Close</th>\n",
              "      <th>Adj Close</th>\n",
              "    </tr>\n",
              "    <tr>\n",
              "      <th>Date</th>\n",
              "      <th></th>\n",
              "      <th></th>\n",
              "      <th></th>\n",
              "    </tr>\n",
              "  </thead>\n",
              "  <tbody>\n",
              "    <tr>\n",
              "      <th>2022-08-08</th>\n",
              "      <td>2022-08-08</td>\n",
              "      <td>118.139999</td>\n",
              "      <td>118.139999</td>\n",
              "    </tr>\n",
              "    <tr>\n",
              "      <th>2022-08-09</th>\n",
              "      <td>2022-08-09</td>\n",
              "      <td>117.500000</td>\n",
              "      <td>117.500000</td>\n",
              "    </tr>\n",
              "    <tr>\n",
              "      <th>2022-08-10</th>\n",
              "      <td>2022-08-10</td>\n",
              "      <td>120.650002</td>\n",
              "      <td>120.650002</td>\n",
              "    </tr>\n",
              "    <tr>\n",
              "      <th>2022-08-11</th>\n",
              "      <td>2022-08-11</td>\n",
              "      <td>119.820000</td>\n",
              "      <td>119.820000</td>\n",
              "    </tr>\n",
              "    <tr>\n",
              "      <th>2022-08-12</th>\n",
              "      <td>2022-08-12</td>\n",
              "      <td>122.650002</td>\n",
              "      <td>122.650002</td>\n",
              "    </tr>\n",
              "  </tbody>\n",
              "</table>\n",
              "</div>\n",
              "      <button class=\"colab-df-convert\" onclick=\"convertToInteractive('df-a19c35a2-b13a-4ac8-98b7-1f2b4891e4ad')\"\n",
              "              title=\"Convert this dataframe to an interactive table.\"\n",
              "              style=\"display:none;\">\n",
              "\n",
              "  <svg xmlns=\"http://www.w3.org/2000/svg\" height=\"24px\"viewBox=\"0 0 24 24\"\n",
              "       width=\"24px\">\n",
              "    <path d=\"M0 0h24v24H0V0z\" fill=\"none\"/>\n",
              "    <path d=\"M18.56 5.44l.94 2.06.94-2.06 2.06-.94-2.06-.94-.94-2.06-.94 2.06-2.06.94zm-11 1L8.5 8.5l.94-2.06 2.06-.94-2.06-.94L8.5 2.5l-.94 2.06-2.06.94zm10 10l.94 2.06.94-2.06 2.06-.94-2.06-.94-.94-2.06-.94 2.06-2.06.94z\"/><path d=\"M17.41 7.96l-1.37-1.37c-.4-.4-.92-.59-1.43-.59-.52 0-1.04.2-1.43.59L10.3 9.45l-7.72 7.72c-.78.78-.78 2.05 0 2.83L4 21.41c.39.39.9.59 1.41.59.51 0 1.02-.2 1.41-.59l7.78-7.78 2.81-2.81c.8-.78.8-2.07 0-2.86zM5.41 20L4 18.59l7.72-7.72 1.47 1.35L5.41 20z\"/>\n",
              "  </svg>\n",
              "      </button>\n",
              "\n",
              "\n",
              "\n",
              "    <div id=\"df-b40f0197-549c-4789-a891-454aaf3d26dd\">\n",
              "      <button class=\"colab-df-quickchart\" onclick=\"quickchart('df-b40f0197-549c-4789-a891-454aaf3d26dd')\"\n",
              "              title=\"Suggest charts.\"\n",
              "              style=\"display:none;\">\n",
              "\n",
              "<svg xmlns=\"http://www.w3.org/2000/svg\" height=\"24px\"viewBox=\"0 0 24 24\"\n",
              "     width=\"24px\">\n",
              "    <g>\n",
              "        <path d=\"M19 3H5c-1.1 0-2 .9-2 2v14c0 1.1.9 2 2 2h14c1.1 0 2-.9 2-2V5c0-1.1-.9-2-2-2zM9 17H7v-7h2v7zm4 0h-2V7h2v10zm4 0h-2v-4h2v4z\"/>\n",
              "    </g>\n",
              "</svg>\n",
              "      </button>\n",
              "    </div>\n",
              "\n",
              "<style>\n",
              "  .colab-df-quickchart {\n",
              "    background-color: #E8F0FE;\n",
              "    border: none;\n",
              "    border-radius: 50%;\n",
              "    cursor: pointer;\n",
              "    display: none;\n",
              "    fill: #1967D2;\n",
              "    height: 32px;\n",
              "    padding: 0 0 0 0;\n",
              "    width: 32px;\n",
              "  }\n",
              "\n",
              "  .colab-df-quickchart:hover {\n",
              "    background-color: #E2EBFA;\n",
              "    box-shadow: 0px 1px 2px rgba(60, 64, 67, 0.3), 0px 1px 3px 1px rgba(60, 64, 67, 0.15);\n",
              "    fill: #174EA6;\n",
              "  }\n",
              "\n",
              "  [theme=dark] .colab-df-quickchart {\n",
              "    background-color: #3B4455;\n",
              "    fill: #D2E3FC;\n",
              "  }\n",
              "\n",
              "  [theme=dark] .colab-df-quickchart:hover {\n",
              "    background-color: #434B5C;\n",
              "    box-shadow: 0px 1px 3px 1px rgba(0, 0, 0, 0.15);\n",
              "    filter: drop-shadow(0px 1px 2px rgba(0, 0, 0, 0.3));\n",
              "    fill: #FFFFFF;\n",
              "  }\n",
              "</style>\n",
              "\n",
              "    <script>\n",
              "      async function quickchart(key) {\n",
              "        const containerElement = document.querySelector('#' + key);\n",
              "        const charts = await google.colab.kernel.invokeFunction(\n",
              "            'suggestCharts', [key], {});\n",
              "      }\n",
              "    </script>\n",
              "\n",
              "      <script>\n",
              "\n",
              "function displayQuickchartButton(domScope) {\n",
              "  let quickchartButtonEl =\n",
              "    domScope.querySelector('#df-b40f0197-549c-4789-a891-454aaf3d26dd button.colab-df-quickchart');\n",
              "  quickchartButtonEl.style.display =\n",
              "    google.colab.kernel.accessAllowed ? 'block' : 'none';\n",
              "}\n",
              "\n",
              "        displayQuickchartButton(document);\n",
              "      </script>\n",
              "      <style>\n",
              "    .colab-df-container {\n",
              "      display:flex;\n",
              "      flex-wrap:wrap;\n",
              "      gap: 12px;\n",
              "    }\n",
              "\n",
              "    .colab-df-convert {\n",
              "      background-color: #E8F0FE;\n",
              "      border: none;\n",
              "      border-radius: 50%;\n",
              "      cursor: pointer;\n",
              "      display: none;\n",
              "      fill: #1967D2;\n",
              "      height: 32px;\n",
              "      padding: 0 0 0 0;\n",
              "      width: 32px;\n",
              "    }\n",
              "\n",
              "    .colab-df-convert:hover {\n",
              "      background-color: #E2EBFA;\n",
              "      box-shadow: 0px 1px 2px rgba(60, 64, 67, 0.3), 0px 1px 3px 1px rgba(60, 64, 67, 0.15);\n",
              "      fill: #174EA6;\n",
              "    }\n",
              "\n",
              "    [theme=dark] .colab-df-convert {\n",
              "      background-color: #3B4455;\n",
              "      fill: #D2E3FC;\n",
              "    }\n",
              "\n",
              "    [theme=dark] .colab-df-convert:hover {\n",
              "      background-color: #434B5C;\n",
              "      box-shadow: 0px 1px 3px 1px rgba(0, 0, 0, 0.15);\n",
              "      filter: drop-shadow(0px 1px 2px rgba(0, 0, 0, 0.3));\n",
              "      fill: #FFFFFF;\n",
              "    }\n",
              "  </style>\n",
              "\n",
              "      <script>\n",
              "        const buttonEl =\n",
              "          document.querySelector('#df-a19c35a2-b13a-4ac8-98b7-1f2b4891e4ad button.colab-df-convert');\n",
              "        buttonEl.style.display =\n",
              "          google.colab.kernel.accessAllowed ? 'block' : 'none';\n",
              "\n",
              "        async function convertToInteractive(key) {\n",
              "          const element = document.querySelector('#df-a19c35a2-b13a-4ac8-98b7-1f2b4891e4ad');\n",
              "          const dataTable =\n",
              "            await google.colab.kernel.invokeFunction('convertToInteractive',\n",
              "                                                     [key], {});\n",
              "          if (!dataTable) return;\n",
              "\n",
              "          const docLinkHtml = 'Like what you see? Visit the ' +\n",
              "            '<a target=\"_blank\" href=https://colab.research.google.com/notebooks/data_table.ipynb>data table notebook</a>'\n",
              "            + ' to learn more about interactive tables.';\n",
              "          element.innerHTML = '';\n",
              "          dataTable['output_type'] = 'display_data';\n",
              "          await google.colab.output.renderOutput(dataTable, element);\n",
              "          const docLink = document.createElement('div');\n",
              "          docLink.innerHTML = docLinkHtml;\n",
              "          element.appendChild(docLink);\n",
              "        }\n",
              "      </script>\n",
              "    </div>\n",
              "  </div>\n"
            ]
          },
          "metadata": {},
          "execution_count": 57
        }
      ]
    },
    {
      "cell_type": "code",
      "source": [
        "import plotly.graph_objects as go\n"
      ],
      "metadata": {
        "id": "A-s9hWQwZA_B"
      },
      "execution_count": null,
      "outputs": []
    },
    {
      "cell_type": "code",
      "source": [
        "trace1 = go.Scatter(\n",
        "    x = df['Date'],\n",
        "    y = df['Close'],\n",
        "    mode = 'lines',\n",
        "    name = 'Data'\n",
        ")\n",
        "\n",
        "layout = go.Layout(\n",
        "    title = \"Google Stock\",\n",
        "    xaxis = {'title':\"Date\"},\n",
        "    yaxis = {\"title\":\"Close\"}\n",
        "\n",
        ")\n",
        "fig = go.Figure(data = [trace1],layout = layout)\n",
        "fig.show()"
      ],
      "metadata": {
        "colab": {
          "base_uri": "https://localhost:8080/",
          "height": 542
        },
        "id": "_pRitLLjZPU-",
        "outputId": "85677d79-c501-464a-a872-1d2ca3e44462"
      },
      "execution_count": null,
      "outputs": [
        {
          "output_type": "display_data",
          "data": {
            "text/html": [
              "<html>\n",
              "<head><meta charset=\"utf-8\" /></head>\n",
              "<body>\n",
              "    <div>            <script src=\"https://cdnjs.cloudflare.com/ajax/libs/mathjax/2.7.5/MathJax.js?config=TeX-AMS-MML_SVG\"></script><script type=\"text/javascript\">if (window.MathJax && window.MathJax.Hub && window.MathJax.Hub.Config) {window.MathJax.Hub.Config({SVG: {font: \"STIX-Web\"}});}</script>                <script type=\"text/javascript\">window.PlotlyConfig = {MathJaxConfig: 'local'};</script>\n",
              "        <script src=\"https://cdn.plot.ly/plotly-2.18.2.min.js\"></script>                <div id=\"ff847f5e-d2ff-428f-895a-adcbe0046da5\" class=\"plotly-graph-div\" style=\"height:525px; width:100%;\"></div>            <script type=\"text/javascript\">                                    window.PLOTLYENV=window.PLOTLYENV || {};                                    if (document.getElementById(\"ff847f5e-d2ff-428f-895a-adcbe0046da5\")) {                    Plotly.newPlot(                        \"ff847f5e-d2ff-428f-895a-adcbe0046da5\",                        [{\"mode\":\"lines\",\"name\":\"Data\",\"x\":[\"2022-08-08T00:00:00\",\"2022-08-09T00:00:00\",\"2022-08-10T00:00:00\",\"2022-08-11T00:00:00\",\"2022-08-12T00:00:00\",\"2022-08-15T00:00:00\",\"2022-08-16T00:00:00\",\"2022-08-17T00:00:00\",\"2022-08-18T00:00:00\",\"2022-08-19T00:00:00\",\"2022-08-22T00:00:00\",\"2022-08-23T00:00:00\",\"2022-08-24T00:00:00\",\"2022-08-25T00:00:00\",\"2022-08-26T00:00:00\",\"2022-08-29T00:00:00\",\"2022-08-30T00:00:00\",\"2022-08-31T00:00:00\",\"2022-09-01T00:00:00\",\"2022-09-02T00:00:00\",\"2022-09-06T00:00:00\",\"2022-09-07T00:00:00\",\"2022-09-08T00:00:00\",\"2022-09-09T00:00:00\",\"2022-09-12T00:00:00\",\"2022-09-13T00:00:00\",\"2022-09-14T00:00:00\",\"2022-09-15T00:00:00\",\"2022-09-16T00:00:00\",\"2022-09-19T00:00:00\",\"2022-09-20T00:00:00\",\"2022-09-21T00:00:00\",\"2022-09-22T00:00:00\",\"2022-09-23T00:00:00\",\"2022-09-26T00:00:00\",\"2022-09-27T00:00:00\",\"2022-09-28T00:00:00\",\"2022-09-29T00:00:00\",\"2022-09-30T00:00:00\",\"2022-10-03T00:00:00\",\"2022-10-04T00:00:00\",\"2022-10-05T00:00:00\",\"2022-10-06T00:00:00\",\"2022-10-07T00:00:00\",\"2022-10-10T00:00:00\",\"2022-10-11T00:00:00\",\"2022-10-12T00:00:00\",\"2022-10-13T00:00:00\",\"2022-10-14T00:00:00\",\"2022-10-17T00:00:00\",\"2022-10-18T00:00:00\",\"2022-10-19T00:00:00\",\"2022-10-20T00:00:00\",\"2022-10-21T00:00:00\",\"2022-10-24T00:00:00\",\"2022-10-25T00:00:00\",\"2022-10-26T00:00:00\",\"2022-10-27T00:00:00\",\"2022-10-28T00:00:00\",\"2022-10-31T00:00:00\",\"2022-11-01T00:00:00\",\"2022-11-02T00:00:00\",\"2022-11-03T00:00:00\",\"2022-11-04T00:00:00\",\"2022-11-07T00:00:00\",\"2022-11-08T00:00:00\",\"2022-11-09T00:00:00\",\"2022-11-10T00:00:00\",\"2022-11-11T00:00:00\",\"2022-11-14T00:00:00\",\"2022-11-15T00:00:00\",\"2022-11-16T00:00:00\",\"2022-11-17T00:00:00\",\"2022-11-18T00:00:00\",\"2022-11-21T00:00:00\",\"2022-11-22T00:00:00\",\"2022-11-23T00:00:00\",\"2022-11-25T00:00:00\",\"2022-11-28T00:00:00\",\"2022-11-29T00:00:00\",\"2022-11-30T00:00:00\",\"2022-12-01T00:00:00\",\"2022-12-02T00:00:00\",\"2022-12-05T00:00:00\",\"2022-12-06T00:00:00\",\"2022-12-07T00:00:00\",\"2022-12-08T00:00:00\",\"2022-12-09T00:00:00\",\"2022-12-12T00:00:00\",\"2022-12-13T00:00:00\",\"2022-12-14T00:00:00\",\"2022-12-15T00:00:00\",\"2022-12-16T00:00:00\",\"2022-12-19T00:00:00\",\"2022-12-20T00:00:00\",\"2022-12-21T00:00:00\",\"2022-12-22T00:00:00\",\"2022-12-23T00:00:00\",\"2022-12-27T00:00:00\",\"2022-12-28T00:00:00\",\"2022-12-29T00:00:00\",\"2022-12-30T00:00:00\",\"2023-01-03T00:00:00\",\"2023-01-04T00:00:00\",\"2023-01-05T00:00:00\",\"2023-01-06T00:00:00\",\"2023-01-09T00:00:00\",\"2023-01-10T00:00:00\",\"2023-01-11T00:00:00\",\"2023-01-12T00:00:00\",\"2023-01-13T00:00:00\",\"2023-01-17T00:00:00\",\"2023-01-18T00:00:00\",\"2023-01-19T00:00:00\",\"2023-01-20T00:00:00\",\"2023-01-23T00:00:00\",\"2023-01-24T00:00:00\",\"2023-01-25T00:00:00\",\"2023-01-26T00:00:00\",\"2023-01-27T00:00:00\",\"2023-01-30T00:00:00\",\"2023-01-31T00:00:00\",\"2023-02-01T00:00:00\",\"2023-02-02T00:00:00\",\"2023-02-03T00:00:00\",\"2023-02-06T00:00:00\",\"2023-02-07T00:00:00\",\"2023-02-08T00:00:00\",\"2023-02-09T00:00:00\",\"2023-02-10T00:00:00\",\"2023-02-13T00:00:00\",\"2023-02-14T00:00:00\",\"2023-02-15T00:00:00\",\"2023-02-16T00:00:00\",\"2023-02-17T00:00:00\",\"2023-02-21T00:00:00\",\"2023-02-22T00:00:00\",\"2023-02-23T00:00:00\",\"2023-02-24T00:00:00\",\"2023-02-27T00:00:00\",\"2023-02-28T00:00:00\",\"2023-03-01T00:00:00\",\"2023-03-02T00:00:00\",\"2023-03-03T00:00:00\",\"2023-03-06T00:00:00\",\"2023-03-07T00:00:00\",\"2023-03-08T00:00:00\",\"2023-03-09T00:00:00\",\"2023-03-10T00:00:00\",\"2023-03-13T00:00:00\",\"2023-03-14T00:00:00\",\"2023-03-15T00:00:00\",\"2023-03-16T00:00:00\",\"2023-03-17T00:00:00\",\"2023-03-20T00:00:00\",\"2023-03-21T00:00:00\",\"2023-03-22T00:00:00\",\"2023-03-23T00:00:00\",\"2023-03-24T00:00:00\",\"2023-03-27T00:00:00\",\"2023-03-28T00:00:00\",\"2023-03-29T00:00:00\",\"2023-03-30T00:00:00\",\"2023-03-31T00:00:00\",\"2023-04-03T00:00:00\",\"2023-04-04T00:00:00\",\"2023-04-05T00:00:00\",\"2023-04-06T00:00:00\",\"2023-04-10T00:00:00\",\"2023-04-11T00:00:00\",\"2023-04-12T00:00:00\",\"2023-04-13T00:00:00\",\"2023-04-14T00:00:00\",\"2023-04-17T00:00:00\",\"2023-04-18T00:00:00\",\"2023-04-19T00:00:00\",\"2023-04-20T00:00:00\",\"2023-04-21T00:00:00\",\"2023-04-24T00:00:00\",\"2023-04-25T00:00:00\",\"2023-04-26T00:00:00\",\"2023-04-27T00:00:00\",\"2023-04-28T00:00:00\",\"2023-05-01T00:00:00\",\"2023-05-02T00:00:00\",\"2023-05-03T00:00:00\",\"2023-05-04T00:00:00\",\"2023-05-05T00:00:00\",\"2023-05-08T00:00:00\",\"2023-05-09T00:00:00\",\"2023-05-10T00:00:00\",\"2023-05-11T00:00:00\",\"2023-05-12T00:00:00\",\"2023-05-15T00:00:00\",\"2023-05-16T00:00:00\",\"2023-05-17T00:00:00\",\"2023-05-18T00:00:00\",\"2023-05-19T00:00:00\",\"2023-05-22T00:00:00\",\"2023-05-23T00:00:00\",\"2023-05-24T00:00:00\",\"2023-05-25T00:00:00\",\"2023-05-26T00:00:00\",\"2023-05-30T00:00:00\",\"2023-05-31T00:00:00\",\"2023-06-01T00:00:00\",\"2023-06-02T00:00:00\",\"2023-06-05T00:00:00\",\"2023-06-06T00:00:00\",\"2023-06-07T00:00:00\",\"2023-06-08T00:00:00\",\"2023-06-09T00:00:00\",\"2023-06-12T00:00:00\",\"2023-06-13T00:00:00\",\"2023-06-14T00:00:00\",\"2023-06-15T00:00:00\",\"2023-06-16T00:00:00\",\"2023-06-20T00:00:00\",\"2023-06-21T00:00:00\",\"2023-06-22T00:00:00\",\"2023-06-23T00:00:00\",\"2023-06-26T00:00:00\",\"2023-06-27T00:00:00\",\"2023-06-28T00:00:00\",\"2023-06-29T00:00:00\",\"2023-06-30T00:00:00\",\"2023-07-03T00:00:00\",\"2023-07-05T00:00:00\",\"2023-07-06T00:00:00\",\"2023-07-07T00:00:00\",\"2023-07-10T00:00:00\",\"2023-07-11T00:00:00\",\"2023-07-12T00:00:00\",\"2023-07-13T00:00:00\",\"2023-07-14T00:00:00\",\"2023-07-17T00:00:00\",\"2023-07-18T00:00:00\",\"2023-07-19T00:00:00\",\"2023-07-20T00:00:00\",\"2023-07-21T00:00:00\",\"2023-07-24T00:00:00\",\"2023-07-25T00:00:00\",\"2023-07-26T00:00:00\",\"2023-07-27T00:00:00\",\"2023-07-28T00:00:00\",\"2023-07-31T00:00:00\",\"2023-08-01T00:00:00\",\"2023-08-02T00:00:00\",\"2023-08-03T00:00:00\",\"2023-08-04T00:00:00\"],\"y\":[118.139999,117.5,120.650002,119.82,122.650002,122.879997,122.510002,120.32,120.860001,118.120003,115.07,114.769997,114.699997,117.699997,111.300003,110.339996,109.910004,109.150002,110.550003,108.68,107.480003,110.480003,109.419998,111.779999,111.870003,105.309998,105.870003,103.900002,103.629997,103.849998,101.830002,100.010002,100.57,99.169998,98.809998,98.089996,100.739998,98.089996,96.150002,99.300003,102.410004,102.220001,102.239998,99.57,98.709999,98.050003,98.300003,99.709999,97.18,100.779999,101.389999,100.290001,100.529999,101.480003,102.970001,104.93,94.82,92.599998,96.580002,94.660004,90.5,87.07,83.489998,86.699997,88.650002,88.910004,87.400002,94.169998,96.730003,96.029999,98.720001,98.989998,98.5,97.800003,95.830002,97.330002,98.82,97.599998,96.25,95.440002,101.449997,101.279999,100.830002,99.870003,97.309998,95.150002,93.949997,93.07,93.559998,95.849998,95.309998,91.199997,90.860001,89.150002,89.629997,90.25,88.260002,89.809998,87.93,86.459999,88.949997,88.730003,89.699997,88.709999,86.769997,88.160004,88.800003,89.239998,92.260002,91.910004,92.800003,92.160004,91.779999,93.910004,99.279999,101.209999,99.209999,96.730003,99.160004,100.709999,97.949997,99.870003,101.43,108.800003,105.220001,103.470001,108.040001,100.0,95.459999,94.860001,95.0,94.949997,97.099998,95.779999,94.589996,92.050003,91.800003,91.07,89.349998,90.099998,90.300003,90.510002,92.309998,94.019997,95.580002,94.169998,94.650002,92.660004,91.010002,91.660004,94.25,96.550003,101.07,102.459999,101.93,105.839996,104.220001,106.260002,106.059998,103.059998,101.360001,101.900002,101.32,104.0,104.910004,105.120003,104.949997,108.900002,106.949997,106.120003,105.220001,108.190002,109.459999,106.419998,105.120003,105.019997,105.900002,105.910004,106.779999,104.610001,104.449997,108.370003,108.220001,107.709999,105.980003,106.120003,105.209999,106.214996,108.239998,107.940002,112.279999,116.900002,117.919998,116.959999,120.089996,121.480003,123.519997,123.25,125.870003,123.290001,121.639999,124.349998,125.43,124.639999,123.370003,124.370003,125.230003,126.629997,127.910004,122.940002,122.669998,122.870003,124.349998,124.43,124.379997,125.790001,124.059998,123.849998,121.260002,123.870003,123.019997,119.089996,119.010002,121.080002,120.010002,120.970001,120.559998,122.629997,120.93,120.139999,116.870003,117.709999,119.620003,124.830002,125.699997,125.059998,124.080002,122.779999,119.529999,120.309998,121.879997,122.790001,129.660004,129.869995,133.009995,133.110001,131.889999,128.639999,128.770004,128.539993],\"type\":\"scatter\"}],                        {\"title\":{\"text\":\"Google Stock\"},\"xaxis\":{\"title\":{\"text\":\"Date\"}},\"yaxis\":{\"title\":{\"text\":\"Close\"}},\"template\":{\"data\":{\"histogram2dcontour\":[{\"type\":\"histogram2dcontour\",\"colorbar\":{\"outlinewidth\":0,\"ticks\":\"\"},\"colorscale\":[[0.0,\"#0d0887\"],[0.1111111111111111,\"#46039f\"],[0.2222222222222222,\"#7201a8\"],[0.3333333333333333,\"#9c179e\"],[0.4444444444444444,\"#bd3786\"],[0.5555555555555556,\"#d8576b\"],[0.6666666666666666,\"#ed7953\"],[0.7777777777777778,\"#fb9f3a\"],[0.8888888888888888,\"#fdca26\"],[1.0,\"#f0f921\"]]}],\"choropleth\":[{\"type\":\"choropleth\",\"colorbar\":{\"outlinewidth\":0,\"ticks\":\"\"}}],\"histogram2d\":[{\"type\":\"histogram2d\",\"colorbar\":{\"outlinewidth\":0,\"ticks\":\"\"},\"colorscale\":[[0.0,\"#0d0887\"],[0.1111111111111111,\"#46039f\"],[0.2222222222222222,\"#7201a8\"],[0.3333333333333333,\"#9c179e\"],[0.4444444444444444,\"#bd3786\"],[0.5555555555555556,\"#d8576b\"],[0.6666666666666666,\"#ed7953\"],[0.7777777777777778,\"#fb9f3a\"],[0.8888888888888888,\"#fdca26\"],[1.0,\"#f0f921\"]]}],\"heatmap\":[{\"type\":\"heatmap\",\"colorbar\":{\"outlinewidth\":0,\"ticks\":\"\"},\"colorscale\":[[0.0,\"#0d0887\"],[0.1111111111111111,\"#46039f\"],[0.2222222222222222,\"#7201a8\"],[0.3333333333333333,\"#9c179e\"],[0.4444444444444444,\"#bd3786\"],[0.5555555555555556,\"#d8576b\"],[0.6666666666666666,\"#ed7953\"],[0.7777777777777778,\"#fb9f3a\"],[0.8888888888888888,\"#fdca26\"],[1.0,\"#f0f921\"]]}],\"heatmapgl\":[{\"type\":\"heatmapgl\",\"colorbar\":{\"outlinewidth\":0,\"ticks\":\"\"},\"colorscale\":[[0.0,\"#0d0887\"],[0.1111111111111111,\"#46039f\"],[0.2222222222222222,\"#7201a8\"],[0.3333333333333333,\"#9c179e\"],[0.4444444444444444,\"#bd3786\"],[0.5555555555555556,\"#d8576b\"],[0.6666666666666666,\"#ed7953\"],[0.7777777777777778,\"#fb9f3a\"],[0.8888888888888888,\"#fdca26\"],[1.0,\"#f0f921\"]]}],\"contourcarpet\":[{\"type\":\"contourcarpet\",\"colorbar\":{\"outlinewidth\":0,\"ticks\":\"\"}}],\"contour\":[{\"type\":\"contour\",\"colorbar\":{\"outlinewidth\":0,\"ticks\":\"\"},\"colorscale\":[[0.0,\"#0d0887\"],[0.1111111111111111,\"#46039f\"],[0.2222222222222222,\"#7201a8\"],[0.3333333333333333,\"#9c179e\"],[0.4444444444444444,\"#bd3786\"],[0.5555555555555556,\"#d8576b\"],[0.6666666666666666,\"#ed7953\"],[0.7777777777777778,\"#fb9f3a\"],[0.8888888888888888,\"#fdca26\"],[1.0,\"#f0f921\"]]}],\"surface\":[{\"type\":\"surface\",\"colorbar\":{\"outlinewidth\":0,\"ticks\":\"\"},\"colorscale\":[[0.0,\"#0d0887\"],[0.1111111111111111,\"#46039f\"],[0.2222222222222222,\"#7201a8\"],[0.3333333333333333,\"#9c179e\"],[0.4444444444444444,\"#bd3786\"],[0.5555555555555556,\"#d8576b\"],[0.6666666666666666,\"#ed7953\"],[0.7777777777777778,\"#fb9f3a\"],[0.8888888888888888,\"#fdca26\"],[1.0,\"#f0f921\"]]}],\"mesh3d\":[{\"type\":\"mesh3d\",\"colorbar\":{\"outlinewidth\":0,\"ticks\":\"\"}}],\"scatter\":[{\"fillpattern\":{\"fillmode\":\"overlay\",\"size\":10,\"solidity\":0.2},\"type\":\"scatter\"}],\"parcoords\":[{\"type\":\"parcoords\",\"line\":{\"colorbar\":{\"outlinewidth\":0,\"ticks\":\"\"}}}],\"scatterpolargl\":[{\"type\":\"scatterpolargl\",\"marker\":{\"colorbar\":{\"outlinewidth\":0,\"ticks\":\"\"}}}],\"bar\":[{\"error_x\":{\"color\":\"#2a3f5f\"},\"error_y\":{\"color\":\"#2a3f5f\"},\"marker\":{\"line\":{\"color\":\"#E5ECF6\",\"width\":0.5},\"pattern\":{\"fillmode\":\"overlay\",\"size\":10,\"solidity\":0.2}},\"type\":\"bar\"}],\"scattergeo\":[{\"type\":\"scattergeo\",\"marker\":{\"colorbar\":{\"outlinewidth\":0,\"ticks\":\"\"}}}],\"scatterpolar\":[{\"type\":\"scatterpolar\",\"marker\":{\"colorbar\":{\"outlinewidth\":0,\"ticks\":\"\"}}}],\"histogram\":[{\"marker\":{\"pattern\":{\"fillmode\":\"overlay\",\"size\":10,\"solidity\":0.2}},\"type\":\"histogram\"}],\"scattergl\":[{\"type\":\"scattergl\",\"marker\":{\"colorbar\":{\"outlinewidth\":0,\"ticks\":\"\"}}}],\"scatter3d\":[{\"type\":\"scatter3d\",\"line\":{\"colorbar\":{\"outlinewidth\":0,\"ticks\":\"\"}},\"marker\":{\"colorbar\":{\"outlinewidth\":0,\"ticks\":\"\"}}}],\"scattermapbox\":[{\"type\":\"scattermapbox\",\"marker\":{\"colorbar\":{\"outlinewidth\":0,\"ticks\":\"\"}}}],\"scatterternary\":[{\"type\":\"scatterternary\",\"marker\":{\"colorbar\":{\"outlinewidth\":0,\"ticks\":\"\"}}}],\"scattercarpet\":[{\"type\":\"scattercarpet\",\"marker\":{\"colorbar\":{\"outlinewidth\":0,\"ticks\":\"\"}}}],\"carpet\":[{\"aaxis\":{\"endlinecolor\":\"#2a3f5f\",\"gridcolor\":\"white\",\"linecolor\":\"white\",\"minorgridcolor\":\"white\",\"startlinecolor\":\"#2a3f5f\"},\"baxis\":{\"endlinecolor\":\"#2a3f5f\",\"gridcolor\":\"white\",\"linecolor\":\"white\",\"minorgridcolor\":\"white\",\"startlinecolor\":\"#2a3f5f\"},\"type\":\"carpet\"}],\"table\":[{\"cells\":{\"fill\":{\"color\":\"#EBF0F8\"},\"line\":{\"color\":\"white\"}},\"header\":{\"fill\":{\"color\":\"#C8D4E3\"},\"line\":{\"color\":\"white\"}},\"type\":\"table\"}],\"barpolar\":[{\"marker\":{\"line\":{\"color\":\"#E5ECF6\",\"width\":0.5},\"pattern\":{\"fillmode\":\"overlay\",\"size\":10,\"solidity\":0.2}},\"type\":\"barpolar\"}],\"pie\":[{\"automargin\":true,\"type\":\"pie\"}]},\"layout\":{\"autotypenumbers\":\"strict\",\"colorway\":[\"#636efa\",\"#EF553B\",\"#00cc96\",\"#ab63fa\",\"#FFA15A\",\"#19d3f3\",\"#FF6692\",\"#B6E880\",\"#FF97FF\",\"#FECB52\"],\"font\":{\"color\":\"#2a3f5f\"},\"hovermode\":\"closest\",\"hoverlabel\":{\"align\":\"left\"},\"paper_bgcolor\":\"white\",\"plot_bgcolor\":\"#E5ECF6\",\"polar\":{\"bgcolor\":\"#E5ECF6\",\"angularaxis\":{\"gridcolor\":\"white\",\"linecolor\":\"white\",\"ticks\":\"\"},\"radialaxis\":{\"gridcolor\":\"white\",\"linecolor\":\"white\",\"ticks\":\"\"}},\"ternary\":{\"bgcolor\":\"#E5ECF6\",\"aaxis\":{\"gridcolor\":\"white\",\"linecolor\":\"white\",\"ticks\":\"\"},\"baxis\":{\"gridcolor\":\"white\",\"linecolor\":\"white\",\"ticks\":\"\"},\"caxis\":{\"gridcolor\":\"white\",\"linecolor\":\"white\",\"ticks\":\"\"}},\"coloraxis\":{\"colorbar\":{\"outlinewidth\":0,\"ticks\":\"\"}},\"colorscale\":{\"sequential\":[[0.0,\"#0d0887\"],[0.1111111111111111,\"#46039f\"],[0.2222222222222222,\"#7201a8\"],[0.3333333333333333,\"#9c179e\"],[0.4444444444444444,\"#bd3786\"],[0.5555555555555556,\"#d8576b\"],[0.6666666666666666,\"#ed7953\"],[0.7777777777777778,\"#fb9f3a\"],[0.8888888888888888,\"#fdca26\"],[1.0,\"#f0f921\"]],\"sequentialminus\":[[0.0,\"#0d0887\"],[0.1111111111111111,\"#46039f\"],[0.2222222222222222,\"#7201a8\"],[0.3333333333333333,\"#9c179e\"],[0.4444444444444444,\"#bd3786\"],[0.5555555555555556,\"#d8576b\"],[0.6666666666666666,\"#ed7953\"],[0.7777777777777778,\"#fb9f3a\"],[0.8888888888888888,\"#fdca26\"],[1.0,\"#f0f921\"]],\"diverging\":[[0,\"#8e0152\"],[0.1,\"#c51b7d\"],[0.2,\"#de77ae\"],[0.3,\"#f1b6da\"],[0.4,\"#fde0ef\"],[0.5,\"#f7f7f7\"],[0.6,\"#e6f5d0\"],[0.7,\"#b8e186\"],[0.8,\"#7fbc41\"],[0.9,\"#4d9221\"],[1,\"#276419\"]]},\"xaxis\":{\"gridcolor\":\"white\",\"linecolor\":\"white\",\"ticks\":\"\",\"title\":{\"standoff\":15},\"zerolinecolor\":\"white\",\"automargin\":true,\"zerolinewidth\":2},\"yaxis\":{\"gridcolor\":\"white\",\"linecolor\":\"white\",\"ticks\":\"\",\"title\":{\"standoff\":15},\"zerolinecolor\":\"white\",\"automargin\":true,\"zerolinewidth\":2},\"scene\":{\"xaxis\":{\"backgroundcolor\":\"#E5ECF6\",\"gridcolor\":\"white\",\"linecolor\":\"white\",\"showbackground\":true,\"ticks\":\"\",\"zerolinecolor\":\"white\",\"gridwidth\":2},\"yaxis\":{\"backgroundcolor\":\"#E5ECF6\",\"gridcolor\":\"white\",\"linecolor\":\"white\",\"showbackground\":true,\"ticks\":\"\",\"zerolinecolor\":\"white\",\"gridwidth\":2},\"zaxis\":{\"backgroundcolor\":\"#E5ECF6\",\"gridcolor\":\"white\",\"linecolor\":\"white\",\"showbackground\":true,\"ticks\":\"\",\"zerolinecolor\":\"white\",\"gridwidth\":2}},\"shapedefaults\":{\"line\":{\"color\":\"#2a3f5f\"}},\"annotationdefaults\":{\"arrowcolor\":\"#2a3f5f\",\"arrowhead\":0,\"arrowwidth\":1},\"geo\":{\"bgcolor\":\"white\",\"landcolor\":\"#E5ECF6\",\"subunitcolor\":\"white\",\"showland\":true,\"showlakes\":true,\"lakecolor\":\"white\"},\"title\":{\"x\":0.05},\"mapbox\":{\"style\":\"light\"}}}},                        {\"responsive\": true}                    ).then(function(){\n",
              "                            \n",
              "var gd = document.getElementById('ff847f5e-d2ff-428f-895a-adcbe0046da5');\n",
              "var x = new MutationObserver(function (mutations, observer) {{\n",
              "        var display = window.getComputedStyle(gd).display;\n",
              "        if (!display || display === 'none') {{\n",
              "            console.log([gd, 'removed!']);\n",
              "            Plotly.purge(gd);\n",
              "            observer.disconnect();\n",
              "        }}\n",
              "}});\n",
              "\n",
              "// Listen for the removal of the full notebook cells\n",
              "var notebookContainer = gd.closest('#notebook-container');\n",
              "if (notebookContainer) {{\n",
              "    x.observe(notebookContainer, {childList: true});\n",
              "}}\n",
              "\n",
              "// Listen for the clearing of the current output cell\n",
              "var outputEl = gd.closest('.output');\n",
              "if (outputEl) {{\n",
              "    x.observe(outputEl, {childList: true});\n",
              "}}\n",
              "\n",
              "                        })                };                            </script>        </div>\n",
              "</body>\n",
              "</html>"
            ]
          },
          "metadata": {}
        }
      ]
    },
    {
      "cell_type": "code",
      "source": [
        "close_data = df['Close'].values"
      ],
      "metadata": {
        "id": "CF1j-z_cbFNf"
      },
      "execution_count": null,
      "outputs": []
    },
    {
      "cell_type": "code",
      "source": [
        "close_data"
      ],
      "metadata": {
        "colab": {
          "base_uri": "https://localhost:8080/"
        },
        "id": "WO0gez0tcRfK",
        "outputId": "0518688e-84f0-499b-983c-95f6140037ac"
      },
      "execution_count": null,
      "outputs": [
        {
          "output_type": "execute_result",
          "data": {
            "text/plain": [
              "array([118.139999, 117.5     , 120.650002, 119.82    , 122.650002,\n",
              "       122.879997, 122.510002, 120.32    , 120.860001, 118.120003,\n",
              "       115.07    , 114.769997, 114.699997, 117.699997, 111.300003,\n",
              "       110.339996, 109.910004, 109.150002, 110.550003, 108.68    ,\n",
              "       107.480003, 110.480003, 109.419998, 111.779999, 111.870003,\n",
              "       105.309998, 105.870003, 103.900002, 103.629997, 103.849998,\n",
              "       101.830002, 100.010002, 100.57    ,  99.169998,  98.809998,\n",
              "        98.089996, 100.739998,  98.089996,  96.150002,  99.300003,\n",
              "       102.410004, 102.220001, 102.239998,  99.57    ,  98.709999,\n",
              "        98.050003,  98.300003,  99.709999,  97.18    , 100.779999,\n",
              "       101.389999, 100.290001, 100.529999, 101.480003, 102.970001,\n",
              "       104.93    ,  94.82    ,  92.599998,  96.580002,  94.660004,\n",
              "        90.5     ,  87.07    ,  83.489998,  86.699997,  88.650002,\n",
              "        88.910004,  87.400002,  94.169998,  96.730003,  96.029999,\n",
              "        98.720001,  98.989998,  98.5     ,  97.800003,  95.830002,\n",
              "        97.330002,  98.82    ,  97.599998,  96.25    ,  95.440002,\n",
              "       101.449997, 101.279999, 100.830002,  99.870003,  97.309998,\n",
              "        95.150002,  93.949997,  93.07    ,  93.559998,  95.849998,\n",
              "        95.309998,  91.199997,  90.860001,  89.150002,  89.629997,\n",
              "        90.25    ,  88.260002,  89.809998,  87.93    ,  86.459999,\n",
              "        88.949997,  88.730003,  89.699997,  88.709999,  86.769997,\n",
              "        88.160004,  88.800003,  89.239998,  92.260002,  91.910004,\n",
              "        92.800003,  92.160004,  91.779999,  93.910004,  99.279999,\n",
              "       101.209999,  99.209999,  96.730003,  99.160004, 100.709999,\n",
              "        97.949997,  99.870003, 101.43    , 108.800003, 105.220001,\n",
              "       103.470001, 108.040001, 100.      ,  95.459999,  94.860001,\n",
              "        95.      ,  94.949997,  97.099998,  95.779999,  94.589996,\n",
              "        92.050003,  91.800003,  91.07    ,  89.349998,  90.099998,\n",
              "        90.300003,  90.510002,  92.309998,  94.019997,  95.580002,\n",
              "        94.169998,  94.650002,  92.660004,  91.010002,  91.660004,\n",
              "        94.25    ,  96.550003, 101.07    , 102.459999, 101.93    ,\n",
              "       105.839996, 104.220001, 106.260002, 106.059998, 103.059998,\n",
              "       101.360001, 101.900002, 101.32    , 104.      , 104.910004,\n",
              "       105.120003, 104.949997, 108.900002, 106.949997, 106.120003,\n",
              "       105.220001, 108.190002, 109.459999, 106.419998, 105.120003,\n",
              "       105.019997, 105.900002, 105.910004, 106.779999, 104.610001,\n",
              "       104.449997, 108.370003, 108.220001, 107.709999, 105.980003,\n",
              "       106.120003, 105.209999, 106.214996, 108.239998, 107.940002,\n",
              "       112.279999, 116.900002, 117.919998, 116.959999, 120.089996,\n",
              "       121.480003, 123.519997, 123.25    , 125.870003, 123.290001,\n",
              "       121.639999, 124.349998, 125.43    , 124.639999, 123.370003,\n",
              "       124.370003, 125.230003, 126.629997, 127.910004, 122.940002,\n",
              "       122.669998, 122.870003, 124.349998, 124.43    , 124.379997,\n",
              "       125.790001, 124.059998, 123.849998, 121.260002, 123.870003,\n",
              "       123.019997, 119.089996, 119.010002, 121.080002, 120.010002,\n",
              "       120.970001, 120.559998, 122.629997, 120.93    , 120.139999,\n",
              "       116.870003, 117.709999, 119.620003, 124.830002, 125.699997,\n",
              "       125.059998, 124.080002, 122.779999, 119.529999, 120.309998,\n",
              "       121.879997, 122.790001, 129.660004, 129.869995, 133.009995,\n",
              "       133.110001, 131.889999, 128.639999, 128.770004, 128.539993])"
            ]
          },
          "metadata": {},
          "execution_count": 61
        }
      ]
    },
    {
      "cell_type": "code",
      "source": [
        "close_data = close_data.reshape(-1,1)"
      ],
      "metadata": {
        "id": "SpItQFK4cTdH"
      },
      "execution_count": null,
      "outputs": []
    },
    {
      "cell_type": "code",
      "source": [
        "close_data"
      ],
      "metadata": {
        "colab": {
          "base_uri": "https://localhost:8080/"
        },
        "id": "-t90XjSCdco4",
        "outputId": "e79e416b-f8b0-4490-9cd5-717e43c087f6"
      },
      "execution_count": null,
      "outputs": [
        {
          "output_type": "execute_result",
          "data": {
            "text/plain": [
              "array([[118.139999],\n",
              "       [117.5     ],\n",
              "       [120.650002],\n",
              "       [119.82    ],\n",
              "       [122.650002],\n",
              "       [122.879997],\n",
              "       [122.510002],\n",
              "       [120.32    ],\n",
              "       [120.860001],\n",
              "       [118.120003],\n",
              "       [115.07    ],\n",
              "       [114.769997],\n",
              "       [114.699997],\n",
              "       [117.699997],\n",
              "       [111.300003],\n",
              "       [110.339996],\n",
              "       [109.910004],\n",
              "       [109.150002],\n",
              "       [110.550003],\n",
              "       [108.68    ],\n",
              "       [107.480003],\n",
              "       [110.480003],\n",
              "       [109.419998],\n",
              "       [111.779999],\n",
              "       [111.870003],\n",
              "       [105.309998],\n",
              "       [105.870003],\n",
              "       [103.900002],\n",
              "       [103.629997],\n",
              "       [103.849998],\n",
              "       [101.830002],\n",
              "       [100.010002],\n",
              "       [100.57    ],\n",
              "       [ 99.169998],\n",
              "       [ 98.809998],\n",
              "       [ 98.089996],\n",
              "       [100.739998],\n",
              "       [ 98.089996],\n",
              "       [ 96.150002],\n",
              "       [ 99.300003],\n",
              "       [102.410004],\n",
              "       [102.220001],\n",
              "       [102.239998],\n",
              "       [ 99.57    ],\n",
              "       [ 98.709999],\n",
              "       [ 98.050003],\n",
              "       [ 98.300003],\n",
              "       [ 99.709999],\n",
              "       [ 97.18    ],\n",
              "       [100.779999],\n",
              "       [101.389999],\n",
              "       [100.290001],\n",
              "       [100.529999],\n",
              "       [101.480003],\n",
              "       [102.970001],\n",
              "       [104.93    ],\n",
              "       [ 94.82    ],\n",
              "       [ 92.599998],\n",
              "       [ 96.580002],\n",
              "       [ 94.660004],\n",
              "       [ 90.5     ],\n",
              "       [ 87.07    ],\n",
              "       [ 83.489998],\n",
              "       [ 86.699997],\n",
              "       [ 88.650002],\n",
              "       [ 88.910004],\n",
              "       [ 87.400002],\n",
              "       [ 94.169998],\n",
              "       [ 96.730003],\n",
              "       [ 96.029999],\n",
              "       [ 98.720001],\n",
              "       [ 98.989998],\n",
              "       [ 98.5     ],\n",
              "       [ 97.800003],\n",
              "       [ 95.830002],\n",
              "       [ 97.330002],\n",
              "       [ 98.82    ],\n",
              "       [ 97.599998],\n",
              "       [ 96.25    ],\n",
              "       [ 95.440002],\n",
              "       [101.449997],\n",
              "       [101.279999],\n",
              "       [100.830002],\n",
              "       [ 99.870003],\n",
              "       [ 97.309998],\n",
              "       [ 95.150002],\n",
              "       [ 93.949997],\n",
              "       [ 93.07    ],\n",
              "       [ 93.559998],\n",
              "       [ 95.849998],\n",
              "       [ 95.309998],\n",
              "       [ 91.199997],\n",
              "       [ 90.860001],\n",
              "       [ 89.150002],\n",
              "       [ 89.629997],\n",
              "       [ 90.25    ],\n",
              "       [ 88.260002],\n",
              "       [ 89.809998],\n",
              "       [ 87.93    ],\n",
              "       [ 86.459999],\n",
              "       [ 88.949997],\n",
              "       [ 88.730003],\n",
              "       [ 89.699997],\n",
              "       [ 88.709999],\n",
              "       [ 86.769997],\n",
              "       [ 88.160004],\n",
              "       [ 88.800003],\n",
              "       [ 89.239998],\n",
              "       [ 92.260002],\n",
              "       [ 91.910004],\n",
              "       [ 92.800003],\n",
              "       [ 92.160004],\n",
              "       [ 91.779999],\n",
              "       [ 93.910004],\n",
              "       [ 99.279999],\n",
              "       [101.209999],\n",
              "       [ 99.209999],\n",
              "       [ 96.730003],\n",
              "       [ 99.160004],\n",
              "       [100.709999],\n",
              "       [ 97.949997],\n",
              "       [ 99.870003],\n",
              "       [101.43    ],\n",
              "       [108.800003],\n",
              "       [105.220001],\n",
              "       [103.470001],\n",
              "       [108.040001],\n",
              "       [100.      ],\n",
              "       [ 95.459999],\n",
              "       [ 94.860001],\n",
              "       [ 95.      ],\n",
              "       [ 94.949997],\n",
              "       [ 97.099998],\n",
              "       [ 95.779999],\n",
              "       [ 94.589996],\n",
              "       [ 92.050003],\n",
              "       [ 91.800003],\n",
              "       [ 91.07    ],\n",
              "       [ 89.349998],\n",
              "       [ 90.099998],\n",
              "       [ 90.300003],\n",
              "       [ 90.510002],\n",
              "       [ 92.309998],\n",
              "       [ 94.019997],\n",
              "       [ 95.580002],\n",
              "       [ 94.169998],\n",
              "       [ 94.650002],\n",
              "       [ 92.660004],\n",
              "       [ 91.010002],\n",
              "       [ 91.660004],\n",
              "       [ 94.25    ],\n",
              "       [ 96.550003],\n",
              "       [101.07    ],\n",
              "       [102.459999],\n",
              "       [101.93    ],\n",
              "       [105.839996],\n",
              "       [104.220001],\n",
              "       [106.260002],\n",
              "       [106.059998],\n",
              "       [103.059998],\n",
              "       [101.360001],\n",
              "       [101.900002],\n",
              "       [101.32    ],\n",
              "       [104.      ],\n",
              "       [104.910004],\n",
              "       [105.120003],\n",
              "       [104.949997],\n",
              "       [108.900002],\n",
              "       [106.949997],\n",
              "       [106.120003],\n",
              "       [105.220001],\n",
              "       [108.190002],\n",
              "       [109.459999],\n",
              "       [106.419998],\n",
              "       [105.120003],\n",
              "       [105.019997],\n",
              "       [105.900002],\n",
              "       [105.910004],\n",
              "       [106.779999],\n",
              "       [104.610001],\n",
              "       [104.449997],\n",
              "       [108.370003],\n",
              "       [108.220001],\n",
              "       [107.709999],\n",
              "       [105.980003],\n",
              "       [106.120003],\n",
              "       [105.209999],\n",
              "       [106.214996],\n",
              "       [108.239998],\n",
              "       [107.940002],\n",
              "       [112.279999],\n",
              "       [116.900002],\n",
              "       [117.919998],\n",
              "       [116.959999],\n",
              "       [120.089996],\n",
              "       [121.480003],\n",
              "       [123.519997],\n",
              "       [123.25    ],\n",
              "       [125.870003],\n",
              "       [123.290001],\n",
              "       [121.639999],\n",
              "       [124.349998],\n",
              "       [125.43    ],\n",
              "       [124.639999],\n",
              "       [123.370003],\n",
              "       [124.370003],\n",
              "       [125.230003],\n",
              "       [126.629997],\n",
              "       [127.910004],\n",
              "       [122.940002],\n",
              "       [122.669998],\n",
              "       [122.870003],\n",
              "       [124.349998],\n",
              "       [124.43    ],\n",
              "       [124.379997],\n",
              "       [125.790001],\n",
              "       [124.059998],\n",
              "       [123.849998],\n",
              "       [121.260002],\n",
              "       [123.870003],\n",
              "       [123.019997],\n",
              "       [119.089996],\n",
              "       [119.010002],\n",
              "       [121.080002],\n",
              "       [120.010002],\n",
              "       [120.970001],\n",
              "       [120.559998],\n",
              "       [122.629997],\n",
              "       [120.93    ],\n",
              "       [120.139999],\n",
              "       [116.870003],\n",
              "       [117.709999],\n",
              "       [119.620003],\n",
              "       [124.830002],\n",
              "       [125.699997],\n",
              "       [125.059998],\n",
              "       [124.080002],\n",
              "       [122.779999],\n",
              "       [119.529999],\n",
              "       [120.309998],\n",
              "       [121.879997],\n",
              "       [122.790001],\n",
              "       [129.660004],\n",
              "       [129.869995],\n",
              "       [133.009995],\n",
              "       [133.110001],\n",
              "       [131.889999],\n",
              "       [128.639999],\n",
              "       [128.770004],\n",
              "       [128.539993]])"
            ]
          },
          "metadata": {},
          "execution_count": 63
        }
      ]
    },
    {
      "cell_type": "code",
      "source": [
        "split_percentage = .80\n",
        "\n",
        "split =int( len(close_data)*split_percentage)"
      ],
      "metadata": {
        "id": "J_cTycV5dfhv"
      },
      "execution_count": null,
      "outputs": []
    },
    {
      "cell_type": "code",
      "source": [
        "split"
      ],
      "metadata": {
        "colab": {
          "base_uri": "https://localhost:8080/"
        },
        "id": "azzXlAY-eLs0",
        "outputId": "3c7afa3f-0f43-48bf-c503-5cd44e648495"
      },
      "execution_count": null,
      "outputs": [
        {
          "output_type": "execute_result",
          "data": {
            "text/plain": [
              "200"
            ]
          },
          "metadata": {},
          "execution_count": 65
        }
      ]
    },
    {
      "cell_type": "code",
      "source": [
        "close_train = close_data[:split]\n",
        "close_test = close_data[split:]"
      ],
      "metadata": {
        "id": "r8DrGo_oeT2R"
      },
      "execution_count": null,
      "outputs": []
    },
    {
      "cell_type": "code",
      "source": [
        "date_train = df['Date'][:split]\n",
        "date_test = df['Date'][split:]"
      ],
      "metadata": {
        "id": "mB-1f829etQz"
      },
      "execution_count": null,
      "outputs": []
    },
    {
      "cell_type": "code",
      "source": [
        "print(len(close_test))"
      ],
      "metadata": {
        "colab": {
          "base_uri": "https://localhost:8080/"
        },
        "id": "DmSuiMFrfm6U",
        "outputId": "a67e6d67-d6a9-44d4-f60f-89c29965edcb"
      },
      "execution_count": null,
      "outputs": [
        {
          "output_type": "stream",
          "name": "stdout",
          "text": [
            "50\n"
          ]
        }
      ]
    },
    {
      "cell_type": "code",
      "source": [
        "from keras.preprocessing.sequence import TimeseriesGenerator"
      ],
      "metadata": {
        "id": "sR2T8qlUf9EQ"
      },
      "execution_count": null,
      "outputs": []
    },
    {
      "cell_type": "code",
      "source": [
        "look_back = 15\n",
        "train_generator =  TimeseriesGenerator(close_train,close_train,length = look_back,batch_size=20)\n",
        "test_generator = TimeseriesGenerator(close_test,close_test,length = look_back,batch_size=1)"
      ],
      "metadata": {
        "id": "FFckRAzLghYa"
      },
      "execution_count": null,
      "outputs": []
    },
    {
      "cell_type": "code",
      "source": [
        "from keras.models import Sequential\n",
        "from keras.layers import LSTM,Dense\n"
      ],
      "metadata": {
        "id": "kd7yr-AdjbJt"
      },
      "execution_count": null,
      "outputs": []
    },
    {
      "cell_type": "code",
      "source": [
        "model = Sequential()\n",
        "model.add(\n",
        "    LSTM(10,activation = 'relu',input_shape = ( look_back,1))\n",
        ")\n",
        "model.add(\n",
        "    Dense(1)\n",
        ")"
      ],
      "metadata": {
        "colab": {
          "base_uri": "https://localhost:8080/"
        },
        "id": "oNb009VlkNg1",
        "outputId": "8b250f09-8ea6-4de9-f96b-22d39fb3bc32"
      },
      "execution_count": null,
      "outputs": [
        {
          "output_type": "stream",
          "name": "stderr",
          "text": [
            "WARNING:tensorflow:Layer lstm_3 will not use cuDNN kernels since it doesn't meet the criteria. It will use a generic GPU kernel as fallback when running on GPU.\n"
          ]
        }
      ]
    },
    {
      "cell_type": "code",
      "source": [
        "model.compile(optimizer = 'adam',loss = 'mse')"
      ],
      "metadata": {
        "id": "ugxQPidTmKJE"
      },
      "execution_count": null,
      "outputs": []
    },
    {
      "cell_type": "code",
      "source": [
        "model.fit_generator(train_generator,epochs=100,verbose=1)#generator used for timeseries"
      ],
      "metadata": {
        "colab": {
          "base_uri": "https://localhost:8080/"
        },
        "id": "WDoIVAMHk4l_",
        "outputId": "1481fe83-ad3b-45d2-df48-ab40147d90b5"
      },
      "execution_count": null,
      "outputs": [
        {
          "output_type": "stream",
          "name": "stdout",
          "text": [
            "Epoch 1/100\n",
            " 1/10 [==>...........................] - ETA: 0s - loss: 8.0317"
          ]
        },
        {
          "output_type": "stream",
          "name": "stderr",
          "text": [
            "<ipython-input-75-afb9244e47a8>:1: UserWarning:\n",
            "\n",
            "`Model.fit_generator` is deprecated and will be removed in a future version. Please use `Model.fit`, which supports generators.\n",
            "\n"
          ]
        },
        {
          "output_type": "stream",
          "name": "stdout",
          "text": [
            "10/10 [==============================] - 1s 61ms/step - loss: 24.1795\n",
            "Epoch 2/100\n",
            "10/10 [==============================] - 0s 45ms/step - loss: 13.2436\n",
            "Epoch 3/100\n",
            "10/10 [==============================] - 0s 29ms/step - loss: 15.4260\n",
            "Epoch 4/100\n",
            "10/10 [==============================] - 0s 25ms/step - loss: 16.6414\n",
            "Epoch 5/100\n",
            "10/10 [==============================] - 0s 32ms/step - loss: 14.2089\n",
            "Epoch 6/100\n",
            "10/10 [==============================] - 0s 26ms/step - loss: 23.2924\n",
            "Epoch 7/100\n",
            "10/10 [==============================] - 0s 25ms/step - loss: 17.8823\n",
            "Epoch 8/100\n",
            "10/10 [==============================] - 0s 31ms/step - loss: 13.7965\n",
            "Epoch 9/100\n",
            "10/10 [==============================] - 0s 28ms/step - loss: 13.9108\n",
            "Epoch 10/100\n",
            "10/10 [==============================] - 0s 27ms/step - loss: 15.3642\n",
            "Epoch 11/100\n",
            "10/10 [==============================] - 0s 27ms/step - loss: 14.6203\n",
            "Epoch 12/100\n",
            "10/10 [==============================] - 0s 30ms/step - loss: 10.8367\n",
            "Epoch 13/100\n",
            "10/10 [==============================] - 0s 29ms/step - loss: 16.5310\n",
            "Epoch 14/100\n",
            "10/10 [==============================] - 0s 27ms/step - loss: 14.3212\n",
            "Epoch 15/100\n",
            "10/10 [==============================] - 0s 32ms/step - loss: 13.6526\n",
            "Epoch 16/100\n",
            "10/10 [==============================] - 0s 28ms/step - loss: 16.3094\n",
            "Epoch 17/100\n",
            "10/10 [==============================] - 0s 26ms/step - loss: 12.3502\n",
            "Epoch 18/100\n",
            "10/10 [==============================] - 0s 32ms/step - loss: 14.9127\n",
            "Epoch 19/100\n",
            "10/10 [==============================] - 0s 29ms/step - loss: 15.0021\n",
            "Epoch 20/100\n",
            "10/10 [==============================] - 0s 28ms/step - loss: 12.6457\n",
            "Epoch 21/100\n",
            "10/10 [==============================] - 0s 29ms/step - loss: 15.2115\n",
            "Epoch 22/100\n",
            "10/10 [==============================] - 0s 28ms/step - loss: 13.7479\n",
            "Epoch 23/100\n",
            "10/10 [==============================] - 0s 27ms/step - loss: 11.9365\n",
            "Epoch 24/100\n",
            "10/10 [==============================] - 0s 30ms/step - loss: 12.6280\n",
            "Epoch 25/100\n",
            "10/10 [==============================] - 0s 26ms/step - loss: 12.1794\n",
            "Epoch 26/100\n",
            "10/10 [==============================] - 0s 29ms/step - loss: 13.8627\n",
            "Epoch 27/100\n",
            "10/10 [==============================] - 0s 29ms/step - loss: 12.5667\n",
            "Epoch 28/100\n",
            "10/10 [==============================] - 0s 29ms/step - loss: 11.2059\n",
            "Epoch 29/100\n",
            "10/10 [==============================] - 0s 34ms/step - loss: 14.1636\n",
            "Epoch 30/100\n",
            "10/10 [==============================] - 1s 56ms/step - loss: 13.2810\n",
            "Epoch 31/100\n",
            "10/10 [==============================] - 1s 60ms/step - loss: 12.8111\n",
            "Epoch 32/100\n",
            "10/10 [==============================] - 1s 56ms/step - loss: 13.2819\n",
            "Epoch 33/100\n",
            "10/10 [==============================] - 0s 42ms/step - loss: 14.2444\n",
            "Epoch 34/100\n",
            "10/10 [==============================] - 0s 25ms/step - loss: 13.4052\n",
            "Epoch 35/100\n",
            "10/10 [==============================] - 0s 25ms/step - loss: 15.2107\n",
            "Epoch 36/100\n",
            "10/10 [==============================] - 0s 28ms/step - loss: 12.1929\n",
            "Epoch 37/100\n",
            "10/10 [==============================] - 0s 28ms/step - loss: 13.2846\n",
            "Epoch 38/100\n",
            "10/10 [==============================] - 0s 26ms/step - loss: 12.5986\n",
            "Epoch 39/100\n",
            "10/10 [==============================] - 0s 31ms/step - loss: 14.5946\n",
            "Epoch 40/100\n",
            "10/10 [==============================] - 0s 27ms/step - loss: 14.7855\n",
            "Epoch 41/100\n",
            "10/10 [==============================] - 0s 30ms/step - loss: 11.3781\n",
            "Epoch 42/100\n",
            "10/10 [==============================] - 0s 28ms/step - loss: 16.0192\n",
            "Epoch 43/100\n",
            "10/10 [==============================] - 0s 30ms/step - loss: 14.7990\n",
            "Epoch 44/100\n",
            "10/10 [==============================] - 0s 26ms/step - loss: 13.9324\n",
            "Epoch 45/100\n",
            "10/10 [==============================] - 0s 30ms/step - loss: 11.9789\n",
            "Epoch 46/100\n",
            "10/10 [==============================] - 0s 30ms/step - loss: 11.2173\n",
            "Epoch 47/100\n",
            "10/10 [==============================] - 0s 28ms/step - loss: 11.7405\n",
            "Epoch 48/100\n",
            "10/10 [==============================] - 0s 27ms/step - loss: 12.0959\n",
            "Epoch 49/100\n",
            "10/10 [==============================] - 0s 27ms/step - loss: 14.7501\n",
            "Epoch 50/100\n",
            "10/10 [==============================] - 0s 32ms/step - loss: 15.7034\n",
            "Epoch 51/100\n",
            "10/10 [==============================] - 0s 27ms/step - loss: 10.0072\n",
            "Epoch 52/100\n",
            "10/10 [==============================] - 0s 32ms/step - loss: 12.2152\n",
            "Epoch 53/100\n",
            "10/10 [==============================] - 0s 32ms/step - loss: 10.7254\n",
            "Epoch 54/100\n",
            "10/10 [==============================] - 0s 26ms/step - loss: 12.8980\n",
            "Epoch 55/100\n",
            "10/10 [==============================] - 0s 30ms/step - loss: 11.4078\n",
            "Epoch 56/100\n",
            "10/10 [==============================] - 0s 28ms/step - loss: 16.9341\n",
            "Epoch 57/100\n",
            "10/10 [==============================] - 0s 25ms/step - loss: 15.8299\n",
            "Epoch 58/100\n",
            "10/10 [==============================] - 0s 33ms/step - loss: 13.5814\n",
            "Epoch 59/100\n",
            "10/10 [==============================] - 0s 28ms/step - loss: 13.5543\n",
            "Epoch 60/100\n",
            "10/10 [==============================] - 0s 31ms/step - loss: 12.4426\n",
            "Epoch 61/100\n",
            "10/10 [==============================] - 1s 54ms/step - loss: 13.5405\n",
            "Epoch 62/100\n",
            "10/10 [==============================] - 1s 54ms/step - loss: 10.6259\n",
            "Epoch 63/100\n",
            "10/10 [==============================] - 1s 54ms/step - loss: 12.9737\n",
            "Epoch 64/100\n",
            "10/10 [==============================] - 1s 55ms/step - loss: 14.0560\n",
            "Epoch 65/100\n",
            "10/10 [==============================] - 0s 37ms/step - loss: 10.5434\n",
            "Epoch 66/100\n",
            "10/10 [==============================] - 0s 26ms/step - loss: 12.7129\n",
            "Epoch 67/100\n",
            "10/10 [==============================] - 0s 28ms/step - loss: 11.7691\n",
            "Epoch 68/100\n",
            "10/10 [==============================] - 0s 28ms/step - loss: 15.6047\n",
            "Epoch 69/100\n",
            "10/10 [==============================] - 0s 30ms/step - loss: 15.8180\n",
            "Epoch 70/100\n",
            "10/10 [==============================] - 0s 27ms/step - loss: 14.0946\n",
            "Epoch 71/100\n",
            "10/10 [==============================] - 0s 28ms/step - loss: 16.7223\n",
            "Epoch 72/100\n",
            "10/10 [==============================] - 0s 29ms/step - loss: 13.2326\n",
            "Epoch 73/100\n",
            "10/10 [==============================] - 0s 30ms/step - loss: 12.5596\n",
            "Epoch 74/100\n",
            "10/10 [==============================] - 0s 26ms/step - loss: 11.1027\n",
            "Epoch 75/100\n",
            "10/10 [==============================] - 0s 29ms/step - loss: 10.9199\n",
            "Epoch 76/100\n",
            "10/10 [==============================] - 0s 29ms/step - loss: 11.6113\n",
            "Epoch 77/100\n",
            "10/10 [==============================] - 0s 26ms/step - loss: 12.3773\n",
            "Epoch 78/100\n",
            "10/10 [==============================] - 0s 30ms/step - loss: 13.4476\n",
            "Epoch 79/100\n",
            "10/10 [==============================] - 0s 26ms/step - loss: 13.0122\n",
            "Epoch 80/100\n",
            "10/10 [==============================] - 0s 28ms/step - loss: 13.7566\n",
            "Epoch 81/100\n",
            "10/10 [==============================] - 0s 31ms/step - loss: 13.0043\n",
            "Epoch 82/100\n",
            "10/10 [==============================] - 0s 29ms/step - loss: 12.3962\n",
            "Epoch 83/100\n",
            "10/10 [==============================] - 0s 27ms/step - loss: 14.5181\n",
            "Epoch 84/100\n",
            "10/10 [==============================] - 0s 28ms/step - loss: 10.6470\n",
            "Epoch 85/100\n",
            "10/10 [==============================] - 0s 27ms/step - loss: 13.0836\n",
            "Epoch 86/100\n",
            "10/10 [==============================] - 0s 27ms/step - loss: 13.2224\n",
            "Epoch 87/100\n",
            "10/10 [==============================] - 0s 27ms/step - loss: 19.6997\n",
            "Epoch 88/100\n",
            "10/10 [==============================] - 0s 27ms/step - loss: 16.9244\n",
            "Epoch 89/100\n",
            "10/10 [==============================] - 0s 28ms/step - loss: 14.3103\n",
            "Epoch 90/100\n",
            "10/10 [==============================] - 0s 36ms/step - loss: 10.5100\n",
            "Epoch 91/100\n",
            "10/10 [==============================] - 1s 117ms/step - loss: 10.7335\n",
            "Epoch 92/100\n",
            "10/10 [==============================] - 1s 140ms/step - loss: 13.1047\n",
            "Epoch 93/100\n",
            "10/10 [==============================] - 0s 30ms/step - loss: 11.0249\n",
            "Epoch 94/100\n",
            "10/10 [==============================] - 1s 64ms/step - loss: 11.3261\n",
            "Epoch 95/100\n",
            "10/10 [==============================] - 0s 30ms/step - loss: 10.6053\n",
            "Epoch 96/100\n",
            "10/10 [==============================] - 0s 30ms/step - loss: 11.5340\n",
            "Epoch 97/100\n",
            "10/10 [==============================] - 0s 28ms/step - loss: 10.6425\n",
            "Epoch 98/100\n",
            "10/10 [==============================] - 0s 29ms/step - loss: 10.4886\n",
            "Epoch 99/100\n",
            "10/10 [==============================] - 0s 26ms/step - loss: 14.0005\n",
            "Epoch 100/100\n",
            "10/10 [==============================] - 0s 30ms/step - loss: 10.9316\n"
          ]
        },
        {
          "output_type": "execute_result",
          "data": {
            "text/plain": [
              "<keras.callbacks.History at 0x797f002ef0a0>"
            ]
          },
          "metadata": {},
          "execution_count": 75
        }
      ]
    },
    {
      "cell_type": "code",
      "source": [
        "prediction = model.predict_generator(test_generator)"
      ],
      "metadata": {
        "colab": {
          "base_uri": "https://localhost:8080/"
        },
        "id": "jRTuYWsgmPbp",
        "outputId": "cff5c9bd-8c60-4002-ef62-87c0d22f3cbf"
      },
      "execution_count": null,
      "outputs": [
        {
          "output_type": "stream",
          "name": "stderr",
          "text": [
            "<ipython-input-76-342c80f366ab>:1: UserWarning:\n",
            "\n",
            "`Model.predict_generator` is deprecated and will be removed in a future version. Please use `Model.predict`, which supports generators.\n",
            "\n"
          ]
        }
      ]
    },
    {
      "cell_type": "code",
      "source": [
        "model.save('google.h5')"
      ],
      "metadata": {
        "id": "kPLzTxR5nLOu"
      },
      "execution_count": null,
      "outputs": []
    },
    {
      "cell_type": "code",
      "source": [
        "close_train = close_train.reshape((-1))\n",
        "close_test = close_test.reshape((-1))\n",
        "prediction = prediction.reshape((-1))\n"
      ],
      "metadata": {
        "id": "dq07XJHNnT_M"
      },
      "execution_count": null,
      "outputs": []
    },
    {
      "cell_type": "code",
      "source": [
        "prediction"
      ],
      "metadata": {
        "colab": {
          "base_uri": "https://localhost:8080/"
        },
        "id": "ykRIhpbrovZo",
        "outputId": "29955531-3231-4759-b7c4-b74f8260b377"
      },
      "execution_count": null,
      "outputs": [
        {
          "output_type": "execute_result",
          "data": {
            "text/plain": [
              "array([118.60065 , 119.98183 , 118.90583 , 117.64488 , 117.03893 ,\n",
              "       119.49722 , 120.96981 , 119.686035, 118.57141 , 116.69309 ,\n",
              "       115.97323 , 116.57806 , 117.54185 , 118.939415, 119.15787 ,\n",
              "       119.354774, 117.506676, 117.71838 , 118.79921 , 122.399124,\n",
              "       122.487465, 120.329124, 119.97565 , 120.17537 , 118.88199 ,\n",
              "       119.83792 , 121.336815, 122.43343 , 123.63335 , 119.58879 ,\n",
              "       115.720375, 117.88194 , 122.35749 , 126.022446, 127.29663 ],\n",
              "      dtype=float32)"
            ]
          },
          "metadata": {},
          "execution_count": 79
        }
      ]
    },
    {
      "cell_type": "code",
      "source": [
        "trace1 = go.Scatter(\n",
        "    x = date_train,\n",
        "    y = close_train,\n",
        "    mode = 'lines',\n",
        "    name = 'data'\n",
        ")\n",
        "trace2 = go.Scatter(\n",
        "    x = date_test,\n",
        "    y = close_test,\n",
        "    mode = 'lines',\n",
        "    name = 'test'\n",
        ")\n",
        "trace3 = go.Scatter(\n",
        "    x = date_test,\n",
        "    y = prediction,\n",
        "    mode = 'lines',\n",
        "    name = 'Prediction'\n",
        ")\n",
        "\n",
        "layout = go.Layout(\n",
        "    title = \"Google Stock\",\n",
        "    xaxis = {'title':\"Date\"},\n",
        "    yaxis = {\"title\":\"Close\"}\n",
        "\n",
        ")\n",
        "fig = go.Figure(data = ([trace1,trace2,trace3]),layout = layout)\n",
        "fig.show()"
      ],
      "metadata": {
        "colab": {
          "base_uri": "https://localhost:8080/",
          "height": 542
        },
        "id": "6-XxqreDoxzL",
        "outputId": "ae2f8694-bc77-4016-f312-7bf902fb5334"
      },
      "execution_count": null,
      "outputs": [
        {
          "output_type": "display_data",
          "data": {
            "text/html": [
              "<html>\n",
              "<head><meta charset=\"utf-8\" /></head>\n",
              "<body>\n",
              "    <div>            <script src=\"https://cdnjs.cloudflare.com/ajax/libs/mathjax/2.7.5/MathJax.js?config=TeX-AMS-MML_SVG\"></script><script type=\"text/javascript\">if (window.MathJax && window.MathJax.Hub && window.MathJax.Hub.Config) {window.MathJax.Hub.Config({SVG: {font: \"STIX-Web\"}});}</script>                <script type=\"text/javascript\">window.PlotlyConfig = {MathJaxConfig: 'local'};</script>\n",
              "        <script src=\"https://cdn.plot.ly/plotly-2.18.2.min.js\"></script>                <div id=\"4f4ba025-ca0b-40c7-bd27-1d89375a696f\" class=\"plotly-graph-div\" style=\"height:525px; width:100%;\"></div>            <script type=\"text/javascript\">                                    window.PLOTLYENV=window.PLOTLYENV || {};                                    if (document.getElementById(\"4f4ba025-ca0b-40c7-bd27-1d89375a696f\")) {                    Plotly.newPlot(                        \"4f4ba025-ca0b-40c7-bd27-1d89375a696f\",                        [{\"mode\":\"lines\",\"name\":\"data\",\"x\":[\"2022-08-08T00:00:00\",\"2022-08-09T00:00:00\",\"2022-08-10T00:00:00\",\"2022-08-11T00:00:00\",\"2022-08-12T00:00:00\",\"2022-08-15T00:00:00\",\"2022-08-16T00:00:00\",\"2022-08-17T00:00:00\",\"2022-08-18T00:00:00\",\"2022-08-19T00:00:00\",\"2022-08-22T00:00:00\",\"2022-08-23T00:00:00\",\"2022-08-24T00:00:00\",\"2022-08-25T00:00:00\",\"2022-08-26T00:00:00\",\"2022-08-29T00:00:00\",\"2022-08-30T00:00:00\",\"2022-08-31T00:00:00\",\"2022-09-01T00:00:00\",\"2022-09-02T00:00:00\",\"2022-09-06T00:00:00\",\"2022-09-07T00:00:00\",\"2022-09-08T00:00:00\",\"2022-09-09T00:00:00\",\"2022-09-12T00:00:00\",\"2022-09-13T00:00:00\",\"2022-09-14T00:00:00\",\"2022-09-15T00:00:00\",\"2022-09-16T00:00:00\",\"2022-09-19T00:00:00\",\"2022-09-20T00:00:00\",\"2022-09-21T00:00:00\",\"2022-09-22T00:00:00\",\"2022-09-23T00:00:00\",\"2022-09-26T00:00:00\",\"2022-09-27T00:00:00\",\"2022-09-28T00:00:00\",\"2022-09-29T00:00:00\",\"2022-09-30T00:00:00\",\"2022-10-03T00:00:00\",\"2022-10-04T00:00:00\",\"2022-10-05T00:00:00\",\"2022-10-06T00:00:00\",\"2022-10-07T00:00:00\",\"2022-10-10T00:00:00\",\"2022-10-11T00:00:00\",\"2022-10-12T00:00:00\",\"2022-10-13T00:00:00\",\"2022-10-14T00:00:00\",\"2022-10-17T00:00:00\",\"2022-10-18T00:00:00\",\"2022-10-19T00:00:00\",\"2022-10-20T00:00:00\",\"2022-10-21T00:00:00\",\"2022-10-24T00:00:00\",\"2022-10-25T00:00:00\",\"2022-10-26T00:00:00\",\"2022-10-27T00:00:00\",\"2022-10-28T00:00:00\",\"2022-10-31T00:00:00\",\"2022-11-01T00:00:00\",\"2022-11-02T00:00:00\",\"2022-11-03T00:00:00\",\"2022-11-04T00:00:00\",\"2022-11-07T00:00:00\",\"2022-11-08T00:00:00\",\"2022-11-09T00:00:00\",\"2022-11-10T00:00:00\",\"2022-11-11T00:00:00\",\"2022-11-14T00:00:00\",\"2022-11-15T00:00:00\",\"2022-11-16T00:00:00\",\"2022-11-17T00:00:00\",\"2022-11-18T00:00:00\",\"2022-11-21T00:00:00\",\"2022-11-22T00:00:00\",\"2022-11-23T00:00:00\",\"2022-11-25T00:00:00\",\"2022-11-28T00:00:00\",\"2022-11-29T00:00:00\",\"2022-11-30T00:00:00\",\"2022-12-01T00:00:00\",\"2022-12-02T00:00:00\",\"2022-12-05T00:00:00\",\"2022-12-06T00:00:00\",\"2022-12-07T00:00:00\",\"2022-12-08T00:00:00\",\"2022-12-09T00:00:00\",\"2022-12-12T00:00:00\",\"2022-12-13T00:00:00\",\"2022-12-14T00:00:00\",\"2022-12-15T00:00:00\",\"2022-12-16T00:00:00\",\"2022-12-19T00:00:00\",\"2022-12-20T00:00:00\",\"2022-12-21T00:00:00\",\"2022-12-22T00:00:00\",\"2022-12-23T00:00:00\",\"2022-12-27T00:00:00\",\"2022-12-28T00:00:00\",\"2022-12-29T00:00:00\",\"2022-12-30T00:00:00\",\"2023-01-03T00:00:00\",\"2023-01-04T00:00:00\",\"2023-01-05T00:00:00\",\"2023-01-06T00:00:00\",\"2023-01-09T00:00:00\",\"2023-01-10T00:00:00\",\"2023-01-11T00:00:00\",\"2023-01-12T00:00:00\",\"2023-01-13T00:00:00\",\"2023-01-17T00:00:00\",\"2023-01-18T00:00:00\",\"2023-01-19T00:00:00\",\"2023-01-20T00:00:00\",\"2023-01-23T00:00:00\",\"2023-01-24T00:00:00\",\"2023-01-25T00:00:00\",\"2023-01-26T00:00:00\",\"2023-01-27T00:00:00\",\"2023-01-30T00:00:00\",\"2023-01-31T00:00:00\",\"2023-02-01T00:00:00\",\"2023-02-02T00:00:00\",\"2023-02-03T00:00:00\",\"2023-02-06T00:00:00\",\"2023-02-07T00:00:00\",\"2023-02-08T00:00:00\",\"2023-02-09T00:00:00\",\"2023-02-10T00:00:00\",\"2023-02-13T00:00:00\",\"2023-02-14T00:00:00\",\"2023-02-15T00:00:00\",\"2023-02-16T00:00:00\",\"2023-02-17T00:00:00\",\"2023-02-21T00:00:00\",\"2023-02-22T00:00:00\",\"2023-02-23T00:00:00\",\"2023-02-24T00:00:00\",\"2023-02-27T00:00:00\",\"2023-02-28T00:00:00\",\"2023-03-01T00:00:00\",\"2023-03-02T00:00:00\",\"2023-03-03T00:00:00\",\"2023-03-06T00:00:00\",\"2023-03-07T00:00:00\",\"2023-03-08T00:00:00\",\"2023-03-09T00:00:00\",\"2023-03-10T00:00:00\",\"2023-03-13T00:00:00\",\"2023-03-14T00:00:00\",\"2023-03-15T00:00:00\",\"2023-03-16T00:00:00\",\"2023-03-17T00:00:00\",\"2023-03-20T00:00:00\",\"2023-03-21T00:00:00\",\"2023-03-22T00:00:00\",\"2023-03-23T00:00:00\",\"2023-03-24T00:00:00\",\"2023-03-27T00:00:00\",\"2023-03-28T00:00:00\",\"2023-03-29T00:00:00\",\"2023-03-30T00:00:00\",\"2023-03-31T00:00:00\",\"2023-04-03T00:00:00\",\"2023-04-04T00:00:00\",\"2023-04-05T00:00:00\",\"2023-04-06T00:00:00\",\"2023-04-10T00:00:00\",\"2023-04-11T00:00:00\",\"2023-04-12T00:00:00\",\"2023-04-13T00:00:00\",\"2023-04-14T00:00:00\",\"2023-04-17T00:00:00\",\"2023-04-18T00:00:00\",\"2023-04-19T00:00:00\",\"2023-04-20T00:00:00\",\"2023-04-21T00:00:00\",\"2023-04-24T00:00:00\",\"2023-04-25T00:00:00\",\"2023-04-26T00:00:00\",\"2023-04-27T00:00:00\",\"2023-04-28T00:00:00\",\"2023-05-01T00:00:00\",\"2023-05-02T00:00:00\",\"2023-05-03T00:00:00\",\"2023-05-04T00:00:00\",\"2023-05-05T00:00:00\",\"2023-05-08T00:00:00\",\"2023-05-09T00:00:00\",\"2023-05-10T00:00:00\",\"2023-05-11T00:00:00\",\"2023-05-12T00:00:00\",\"2023-05-15T00:00:00\",\"2023-05-16T00:00:00\",\"2023-05-17T00:00:00\",\"2023-05-18T00:00:00\",\"2023-05-19T00:00:00\",\"2023-05-22T00:00:00\",\"2023-05-23T00:00:00\"],\"y\":[118.139999,117.5,120.650002,119.82,122.650002,122.879997,122.510002,120.32,120.860001,118.120003,115.07,114.769997,114.699997,117.699997,111.300003,110.339996,109.910004,109.150002,110.550003,108.68,107.480003,110.480003,109.419998,111.779999,111.870003,105.309998,105.870003,103.900002,103.629997,103.849998,101.830002,100.010002,100.57,99.169998,98.809998,98.089996,100.739998,98.089996,96.150002,99.300003,102.410004,102.220001,102.239998,99.57,98.709999,98.050003,98.300003,99.709999,97.18,100.779999,101.389999,100.290001,100.529999,101.480003,102.970001,104.93,94.82,92.599998,96.580002,94.660004,90.5,87.07,83.489998,86.699997,88.650002,88.910004,87.400002,94.169998,96.730003,96.029999,98.720001,98.989998,98.5,97.800003,95.830002,97.330002,98.82,97.599998,96.25,95.440002,101.449997,101.279999,100.830002,99.870003,97.309998,95.150002,93.949997,93.07,93.559998,95.849998,95.309998,91.199997,90.860001,89.150002,89.629997,90.25,88.260002,89.809998,87.93,86.459999,88.949997,88.730003,89.699997,88.709999,86.769997,88.160004,88.800003,89.239998,92.260002,91.910004,92.800003,92.160004,91.779999,93.910004,99.279999,101.209999,99.209999,96.730003,99.160004,100.709999,97.949997,99.870003,101.43,108.800003,105.220001,103.470001,108.040001,100.0,95.459999,94.860001,95.0,94.949997,97.099998,95.779999,94.589996,92.050003,91.800003,91.07,89.349998,90.099998,90.300003,90.510002,92.309998,94.019997,95.580002,94.169998,94.650002,92.660004,91.010002,91.660004,94.25,96.550003,101.07,102.459999,101.93,105.839996,104.220001,106.260002,106.059998,103.059998,101.360001,101.900002,101.32,104.0,104.910004,105.120003,104.949997,108.900002,106.949997,106.120003,105.220001,108.190002,109.459999,106.419998,105.120003,105.019997,105.900002,105.910004,106.779999,104.610001,104.449997,108.370003,108.220001,107.709999,105.980003,106.120003,105.209999,106.214996,108.239998,107.940002,112.279999,116.900002,117.919998,116.959999,120.089996,121.480003,123.519997,123.25,125.870003,123.290001],\"type\":\"scatter\"},{\"mode\":\"lines\",\"name\":\"test\",\"x\":[\"2023-05-24T00:00:00\",\"2023-05-25T00:00:00\",\"2023-05-26T00:00:00\",\"2023-05-30T00:00:00\",\"2023-05-31T00:00:00\",\"2023-06-01T00:00:00\",\"2023-06-02T00:00:00\",\"2023-06-05T00:00:00\",\"2023-06-06T00:00:00\",\"2023-06-07T00:00:00\",\"2023-06-08T00:00:00\",\"2023-06-09T00:00:00\",\"2023-06-12T00:00:00\",\"2023-06-13T00:00:00\",\"2023-06-14T00:00:00\",\"2023-06-15T00:00:00\",\"2023-06-16T00:00:00\",\"2023-06-20T00:00:00\",\"2023-06-21T00:00:00\",\"2023-06-22T00:00:00\",\"2023-06-23T00:00:00\",\"2023-06-26T00:00:00\",\"2023-06-27T00:00:00\",\"2023-06-28T00:00:00\",\"2023-06-29T00:00:00\",\"2023-06-30T00:00:00\",\"2023-07-03T00:00:00\",\"2023-07-05T00:00:00\",\"2023-07-06T00:00:00\",\"2023-07-07T00:00:00\",\"2023-07-10T00:00:00\",\"2023-07-11T00:00:00\",\"2023-07-12T00:00:00\",\"2023-07-13T00:00:00\",\"2023-07-14T00:00:00\",\"2023-07-17T00:00:00\",\"2023-07-18T00:00:00\",\"2023-07-19T00:00:00\",\"2023-07-20T00:00:00\",\"2023-07-21T00:00:00\",\"2023-07-24T00:00:00\",\"2023-07-25T00:00:00\",\"2023-07-26T00:00:00\",\"2023-07-27T00:00:00\",\"2023-07-28T00:00:00\",\"2023-07-31T00:00:00\",\"2023-08-01T00:00:00\",\"2023-08-02T00:00:00\",\"2023-08-03T00:00:00\",\"2023-08-04T00:00:00\"],\"y\":[121.639999,124.349998,125.43,124.639999,123.370003,124.370003,125.230003,126.629997,127.910004,122.940002,122.669998,122.870003,124.349998,124.43,124.379997,125.790001,124.059998,123.849998,121.260002,123.870003,123.019997,119.089996,119.010002,121.080002,120.010002,120.970001,120.559998,122.629997,120.93,120.139999,116.870003,117.709999,119.620003,124.830002,125.699997,125.059998,124.080002,122.779999,119.529999,120.309998,121.879997,122.790001,129.660004,129.869995,133.009995,133.110001,131.889999,128.639999,128.770004,128.539993],\"type\":\"scatter\"},{\"mode\":\"lines\",\"name\":\"Prediction\",\"x\":[\"2023-05-24T00:00:00\",\"2023-05-25T00:00:00\",\"2023-05-26T00:00:00\",\"2023-05-30T00:00:00\",\"2023-05-31T00:00:00\",\"2023-06-01T00:00:00\",\"2023-06-02T00:00:00\",\"2023-06-05T00:00:00\",\"2023-06-06T00:00:00\",\"2023-06-07T00:00:00\",\"2023-06-08T00:00:00\",\"2023-06-09T00:00:00\",\"2023-06-12T00:00:00\",\"2023-06-13T00:00:00\",\"2023-06-14T00:00:00\",\"2023-06-15T00:00:00\",\"2023-06-16T00:00:00\",\"2023-06-20T00:00:00\",\"2023-06-21T00:00:00\",\"2023-06-22T00:00:00\",\"2023-06-23T00:00:00\",\"2023-06-26T00:00:00\",\"2023-06-27T00:00:00\",\"2023-06-28T00:00:00\",\"2023-06-29T00:00:00\",\"2023-06-30T00:00:00\",\"2023-07-03T00:00:00\",\"2023-07-05T00:00:00\",\"2023-07-06T00:00:00\",\"2023-07-07T00:00:00\",\"2023-07-10T00:00:00\",\"2023-07-11T00:00:00\",\"2023-07-12T00:00:00\",\"2023-07-13T00:00:00\",\"2023-07-14T00:00:00\",\"2023-07-17T00:00:00\",\"2023-07-18T00:00:00\",\"2023-07-19T00:00:00\",\"2023-07-20T00:00:00\",\"2023-07-21T00:00:00\",\"2023-07-24T00:00:00\",\"2023-07-25T00:00:00\",\"2023-07-26T00:00:00\",\"2023-07-27T00:00:00\",\"2023-07-28T00:00:00\",\"2023-07-31T00:00:00\",\"2023-08-01T00:00:00\",\"2023-08-02T00:00:00\",\"2023-08-03T00:00:00\",\"2023-08-04T00:00:00\"],\"y\":[118.60064697265625,119.98182678222656,118.90583038330078,117.64488220214844,117.03893280029297,119.49722290039062,120.96981048583984,119.68603515625,118.5714111328125,116.6930923461914,115.97322845458984,116.57805633544922,117.5418472290039,118.93941497802734,119.15786743164062,119.35477447509766,117.50667572021484,117.7183837890625,118.79920959472656,122.39912414550781,122.48746490478516,120.3291244506836,119.97564697265625,120.17536926269531,118.88198852539062,119.83792114257812,121.3368148803711,122.43343353271484,123.63334655761719,119.58879089355469,115.72037506103516,117.88194274902344,122.35749053955078,126.02244567871094,127.296630859375],\"type\":\"scatter\"}],                        {\"title\":{\"text\":\"Google Stock\"},\"xaxis\":{\"title\":{\"text\":\"Date\"}},\"yaxis\":{\"title\":{\"text\":\"Close\"}},\"template\":{\"data\":{\"histogram2dcontour\":[{\"type\":\"histogram2dcontour\",\"colorbar\":{\"outlinewidth\":0,\"ticks\":\"\"},\"colorscale\":[[0.0,\"#0d0887\"],[0.1111111111111111,\"#46039f\"],[0.2222222222222222,\"#7201a8\"],[0.3333333333333333,\"#9c179e\"],[0.4444444444444444,\"#bd3786\"],[0.5555555555555556,\"#d8576b\"],[0.6666666666666666,\"#ed7953\"],[0.7777777777777778,\"#fb9f3a\"],[0.8888888888888888,\"#fdca26\"],[1.0,\"#f0f921\"]]}],\"choropleth\":[{\"type\":\"choropleth\",\"colorbar\":{\"outlinewidth\":0,\"ticks\":\"\"}}],\"histogram2d\":[{\"type\":\"histogram2d\",\"colorbar\":{\"outlinewidth\":0,\"ticks\":\"\"},\"colorscale\":[[0.0,\"#0d0887\"],[0.1111111111111111,\"#46039f\"],[0.2222222222222222,\"#7201a8\"],[0.3333333333333333,\"#9c179e\"],[0.4444444444444444,\"#bd3786\"],[0.5555555555555556,\"#d8576b\"],[0.6666666666666666,\"#ed7953\"],[0.7777777777777778,\"#fb9f3a\"],[0.8888888888888888,\"#fdca26\"],[1.0,\"#f0f921\"]]}],\"heatmap\":[{\"type\":\"heatmap\",\"colorbar\":{\"outlinewidth\":0,\"ticks\":\"\"},\"colorscale\":[[0.0,\"#0d0887\"],[0.1111111111111111,\"#46039f\"],[0.2222222222222222,\"#7201a8\"],[0.3333333333333333,\"#9c179e\"],[0.4444444444444444,\"#bd3786\"],[0.5555555555555556,\"#d8576b\"],[0.6666666666666666,\"#ed7953\"],[0.7777777777777778,\"#fb9f3a\"],[0.8888888888888888,\"#fdca26\"],[1.0,\"#f0f921\"]]}],\"heatmapgl\":[{\"type\":\"heatmapgl\",\"colorbar\":{\"outlinewidth\":0,\"ticks\":\"\"},\"colorscale\":[[0.0,\"#0d0887\"],[0.1111111111111111,\"#46039f\"],[0.2222222222222222,\"#7201a8\"],[0.3333333333333333,\"#9c179e\"],[0.4444444444444444,\"#bd3786\"],[0.5555555555555556,\"#d8576b\"],[0.6666666666666666,\"#ed7953\"],[0.7777777777777778,\"#fb9f3a\"],[0.8888888888888888,\"#fdca26\"],[1.0,\"#f0f921\"]]}],\"contourcarpet\":[{\"type\":\"contourcarpet\",\"colorbar\":{\"outlinewidth\":0,\"ticks\":\"\"}}],\"contour\":[{\"type\":\"contour\",\"colorbar\":{\"outlinewidth\":0,\"ticks\":\"\"},\"colorscale\":[[0.0,\"#0d0887\"],[0.1111111111111111,\"#46039f\"],[0.2222222222222222,\"#7201a8\"],[0.3333333333333333,\"#9c179e\"],[0.4444444444444444,\"#bd3786\"],[0.5555555555555556,\"#d8576b\"],[0.6666666666666666,\"#ed7953\"],[0.7777777777777778,\"#fb9f3a\"],[0.8888888888888888,\"#fdca26\"],[1.0,\"#f0f921\"]]}],\"surface\":[{\"type\":\"surface\",\"colorbar\":{\"outlinewidth\":0,\"ticks\":\"\"},\"colorscale\":[[0.0,\"#0d0887\"],[0.1111111111111111,\"#46039f\"],[0.2222222222222222,\"#7201a8\"],[0.3333333333333333,\"#9c179e\"],[0.4444444444444444,\"#bd3786\"],[0.5555555555555556,\"#d8576b\"],[0.6666666666666666,\"#ed7953\"],[0.7777777777777778,\"#fb9f3a\"],[0.8888888888888888,\"#fdca26\"],[1.0,\"#f0f921\"]]}],\"mesh3d\":[{\"type\":\"mesh3d\",\"colorbar\":{\"outlinewidth\":0,\"ticks\":\"\"}}],\"scatter\":[{\"fillpattern\":{\"fillmode\":\"overlay\",\"size\":10,\"solidity\":0.2},\"type\":\"scatter\"}],\"parcoords\":[{\"type\":\"parcoords\",\"line\":{\"colorbar\":{\"outlinewidth\":0,\"ticks\":\"\"}}}],\"scatterpolargl\":[{\"type\":\"scatterpolargl\",\"marker\":{\"colorbar\":{\"outlinewidth\":0,\"ticks\":\"\"}}}],\"bar\":[{\"error_x\":{\"color\":\"#2a3f5f\"},\"error_y\":{\"color\":\"#2a3f5f\"},\"marker\":{\"line\":{\"color\":\"#E5ECF6\",\"width\":0.5},\"pattern\":{\"fillmode\":\"overlay\",\"size\":10,\"solidity\":0.2}},\"type\":\"bar\"}],\"scattergeo\":[{\"type\":\"scattergeo\",\"marker\":{\"colorbar\":{\"outlinewidth\":0,\"ticks\":\"\"}}}],\"scatterpolar\":[{\"type\":\"scatterpolar\",\"marker\":{\"colorbar\":{\"outlinewidth\":0,\"ticks\":\"\"}}}],\"histogram\":[{\"marker\":{\"pattern\":{\"fillmode\":\"overlay\",\"size\":10,\"solidity\":0.2}},\"type\":\"histogram\"}],\"scattergl\":[{\"type\":\"scattergl\",\"marker\":{\"colorbar\":{\"outlinewidth\":0,\"ticks\":\"\"}}}],\"scatter3d\":[{\"type\":\"scatter3d\",\"line\":{\"colorbar\":{\"outlinewidth\":0,\"ticks\":\"\"}},\"marker\":{\"colorbar\":{\"outlinewidth\":0,\"ticks\":\"\"}}}],\"scattermapbox\":[{\"type\":\"scattermapbox\",\"marker\":{\"colorbar\":{\"outlinewidth\":0,\"ticks\":\"\"}}}],\"scatterternary\":[{\"type\":\"scatterternary\",\"marker\":{\"colorbar\":{\"outlinewidth\":0,\"ticks\":\"\"}}}],\"scattercarpet\":[{\"type\":\"scattercarpet\",\"marker\":{\"colorbar\":{\"outlinewidth\":0,\"ticks\":\"\"}}}],\"carpet\":[{\"aaxis\":{\"endlinecolor\":\"#2a3f5f\",\"gridcolor\":\"white\",\"linecolor\":\"white\",\"minorgridcolor\":\"white\",\"startlinecolor\":\"#2a3f5f\"},\"baxis\":{\"endlinecolor\":\"#2a3f5f\",\"gridcolor\":\"white\",\"linecolor\":\"white\",\"minorgridcolor\":\"white\",\"startlinecolor\":\"#2a3f5f\"},\"type\":\"carpet\"}],\"table\":[{\"cells\":{\"fill\":{\"color\":\"#EBF0F8\"},\"line\":{\"color\":\"white\"}},\"header\":{\"fill\":{\"color\":\"#C8D4E3\"},\"line\":{\"color\":\"white\"}},\"type\":\"table\"}],\"barpolar\":[{\"marker\":{\"line\":{\"color\":\"#E5ECF6\",\"width\":0.5},\"pattern\":{\"fillmode\":\"overlay\",\"size\":10,\"solidity\":0.2}},\"type\":\"barpolar\"}],\"pie\":[{\"automargin\":true,\"type\":\"pie\"}]},\"layout\":{\"autotypenumbers\":\"strict\",\"colorway\":[\"#636efa\",\"#EF553B\",\"#00cc96\",\"#ab63fa\",\"#FFA15A\",\"#19d3f3\",\"#FF6692\",\"#B6E880\",\"#FF97FF\",\"#FECB52\"],\"font\":{\"color\":\"#2a3f5f\"},\"hovermode\":\"closest\",\"hoverlabel\":{\"align\":\"left\"},\"paper_bgcolor\":\"white\",\"plot_bgcolor\":\"#E5ECF6\",\"polar\":{\"bgcolor\":\"#E5ECF6\",\"angularaxis\":{\"gridcolor\":\"white\",\"linecolor\":\"white\",\"ticks\":\"\"},\"radialaxis\":{\"gridcolor\":\"white\",\"linecolor\":\"white\",\"ticks\":\"\"}},\"ternary\":{\"bgcolor\":\"#E5ECF6\",\"aaxis\":{\"gridcolor\":\"white\",\"linecolor\":\"white\",\"ticks\":\"\"},\"baxis\":{\"gridcolor\":\"white\",\"linecolor\":\"white\",\"ticks\":\"\"},\"caxis\":{\"gridcolor\":\"white\",\"linecolor\":\"white\",\"ticks\":\"\"}},\"coloraxis\":{\"colorbar\":{\"outlinewidth\":0,\"ticks\":\"\"}},\"colorscale\":{\"sequential\":[[0.0,\"#0d0887\"],[0.1111111111111111,\"#46039f\"],[0.2222222222222222,\"#7201a8\"],[0.3333333333333333,\"#9c179e\"],[0.4444444444444444,\"#bd3786\"],[0.5555555555555556,\"#d8576b\"],[0.6666666666666666,\"#ed7953\"],[0.7777777777777778,\"#fb9f3a\"],[0.8888888888888888,\"#fdca26\"],[1.0,\"#f0f921\"]],\"sequentialminus\":[[0.0,\"#0d0887\"],[0.1111111111111111,\"#46039f\"],[0.2222222222222222,\"#7201a8\"],[0.3333333333333333,\"#9c179e\"],[0.4444444444444444,\"#bd3786\"],[0.5555555555555556,\"#d8576b\"],[0.6666666666666666,\"#ed7953\"],[0.7777777777777778,\"#fb9f3a\"],[0.8888888888888888,\"#fdca26\"],[1.0,\"#f0f921\"]],\"diverging\":[[0,\"#8e0152\"],[0.1,\"#c51b7d\"],[0.2,\"#de77ae\"],[0.3,\"#f1b6da\"],[0.4,\"#fde0ef\"],[0.5,\"#f7f7f7\"],[0.6,\"#e6f5d0\"],[0.7,\"#b8e186\"],[0.8,\"#7fbc41\"],[0.9,\"#4d9221\"],[1,\"#276419\"]]},\"xaxis\":{\"gridcolor\":\"white\",\"linecolor\":\"white\",\"ticks\":\"\",\"title\":{\"standoff\":15},\"zerolinecolor\":\"white\",\"automargin\":true,\"zerolinewidth\":2},\"yaxis\":{\"gridcolor\":\"white\",\"linecolor\":\"white\",\"ticks\":\"\",\"title\":{\"standoff\":15},\"zerolinecolor\":\"white\",\"automargin\":true,\"zerolinewidth\":2},\"scene\":{\"xaxis\":{\"backgroundcolor\":\"#E5ECF6\",\"gridcolor\":\"white\",\"linecolor\":\"white\",\"showbackground\":true,\"ticks\":\"\",\"zerolinecolor\":\"white\",\"gridwidth\":2},\"yaxis\":{\"backgroundcolor\":\"#E5ECF6\",\"gridcolor\":\"white\",\"linecolor\":\"white\",\"showbackground\":true,\"ticks\":\"\",\"zerolinecolor\":\"white\",\"gridwidth\":2},\"zaxis\":{\"backgroundcolor\":\"#E5ECF6\",\"gridcolor\":\"white\",\"linecolor\":\"white\",\"showbackground\":true,\"ticks\":\"\",\"zerolinecolor\":\"white\",\"gridwidth\":2}},\"shapedefaults\":{\"line\":{\"color\":\"#2a3f5f\"}},\"annotationdefaults\":{\"arrowcolor\":\"#2a3f5f\",\"arrowhead\":0,\"arrowwidth\":1},\"geo\":{\"bgcolor\":\"white\",\"landcolor\":\"#E5ECF6\",\"subunitcolor\":\"white\",\"showland\":true,\"showlakes\":true,\"lakecolor\":\"white\"},\"title\":{\"x\":0.05},\"mapbox\":{\"style\":\"light\"}}}},                        {\"responsive\": true}                    ).then(function(){\n",
              "                            \n",
              "var gd = document.getElementById('4f4ba025-ca0b-40c7-bd27-1d89375a696f');\n",
              "var x = new MutationObserver(function (mutations, observer) {{\n",
              "        var display = window.getComputedStyle(gd).display;\n",
              "        if (!display || display === 'none') {{\n",
              "            console.log([gd, 'removed!']);\n",
              "            Plotly.purge(gd);\n",
              "            observer.disconnect();\n",
              "        }}\n",
              "}});\n",
              "\n",
              "// Listen for the removal of the full notebook cells\n",
              "var notebookContainer = gd.closest('#notebook-container');\n",
              "if (notebookContainer) {{\n",
              "    x.observe(notebookContainer, {childList: true});\n",
              "}}\n",
              "\n",
              "// Listen for the clearing of the current output cell\n",
              "var outputEl = gd.closest('.output');\n",
              "if (outputEl) {{\n",
              "    x.observe(outputEl, {childList: true});\n",
              "}}\n",
              "\n",
              "                        })                };                            </script>        </div>\n",
              "</body>\n",
              "</html>"
            ]
          },
          "metadata": {}
        }
      ]
    },
    {
      "cell_type": "code",
      "source": [],
      "metadata": {
        "id": "Y3KDrFTkslj5"
      },
      "execution_count": null,
      "outputs": []
    }
  ]
}